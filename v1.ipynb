{
 "cells": [
  {
   "cell_type": "markdown",
   "source": [
    "[SKLearn GaussianProcessRegressor](https://scikit-learn.org/stable/modules/generated/sklearn.gaussian_process.GaussianProcessRegressor.html)\n",
    "\n",
    "# TODO\n",
    "\n"
   ],
   "metadata": {
    "collapsed": false
   }
  },
  {
   "cell_type": "code",
   "execution_count": 1,
   "outputs": [],
   "source": [
    "import matplotlib.pyplot as plt\n",
    "import numpy as np\n",
    "import pandas as pd\n",
    "from sklearn.metrics import r2_score\n",
    "\n",
    "from sklearn import datasets\n",
    "from sklearn.ensemble import HistGradientBoostingRegressor\n",
    "from sklearn.gaussian_process.kernels import DotProduct, WhiteKernel"
   ],
   "metadata": {
    "collapsed": false
   }
  },
  {
   "cell_type": "code",
   "execution_count": 2,
   "outputs": [],
   "source": [
    "\n",
    "training_set = pd.read_csv(\"training.csv\")\n",
    "\n",
    "N = len(training_set)\n",
    "K = 10\n",
    "KN = int(N/K)\n",
    "\n",
    "training_set = training_set.drop(['Unnamed: 0', 'Date', 'conditions', 'visibility', 'snow', 'snowdepth', 'winddir'], axis=1)\n",
    "X = training_set.drop(['solar_production'], axis=1)\n",
    "Y = training_set['solar_production']"
   ],
   "metadata": {
    "collapsed": false
   }
  },
  {
   "cell_type": "code",
   "execution_count": 3,
   "outputs": [],
   "source": [
    "train_size = int(KN*(K-1))\n",
    "res = pd.Series(dtype='float64')\n",
    "Y_true_tot = pd.Series(dtype='float64')\n",
    "Y_pred_tot = pd.Series(dtype='float64')\n",
    "for k in range(K):\n",
    "    first_split = N-(k+1)*KN\n",
    "    second_split = first_split+KN\n",
    "    X_train = pd.concat((X[:first_split], X[second_split:N]))\n",
    "    Y_train = pd.concat((Y[:first_split], Y[second_split:N]))\n",
    "    X_test  = X[first_split:second_split]\n",
    "    Y_test  = Y[first_split:second_split]\n",
    "\n",
    "    est = HistGradientBoostingRegressor().fit(X_train, Y_train)\n",
    "    est.score(X_train, Y_train)\n",
    "    Y_guess = est.predict(X_test)\n",
    "    Y_true_tot = pd.concat((Y_true_tot, Y_test))\n",
    "    Y_pred_tot = pd.concat((Y_pred_tot, pd.DataFrame(Y_guess)))\n",
    "    res = pd.concat((res, abs(Y_test - Y_guess)))"
   ],
   "metadata": {
    "collapsed": false
   }
  },
  {
   "cell_type": "code",
   "execution_count": 4,
   "outputs": [
    {
     "data": {
      "text/plain": "-0.06053478975023263"
     },
     "execution_count": 4,
     "metadata": {},
     "output_type": "execute_result"
    },
    {
     "data": {
      "text/plain": "<Figure size 640x480 with 1 Axes>",
      "image/png": "[encoded data removed]"
     },
     "metadata": {},
     "output_type": "display_data"
    }
   ],
   "source": [
    "res.hist()\n",
    "r2_score(Y_true_tot, Y_pred_tot)"
   ],
   "metadata": {
    "collapsed": false
   }
  },
  {
   "cell_type": "code",
   "execution_count": 5,
   "outputs": [
    {
     "data": {
      "text/plain": "             0\n0     0.717787\n1     0.717787\n2     0.717787\n3     0.717787\n4     0.717787\n...        ...\n1780  0.357201\n1781  0.357201\n1782  0.026685\n1783  0.026685\n1784  0.026685\n\n[17850 rows x 1 columns]",
      "text/html": "<div>\n<style scoped>\n    .dataframe tbody tr th:only-of-type {\n        vertical-align: middle;\n    }\n\n    .dataframe tbody tr th {\n        vertical-align: top;\n    }\n\n    .dataframe thead th {\n        text-align: right;\n    }\n</style>\n<table border=\"1\" class=\"dataframe\">\n  <thead>\n    <tr style=\"text-align: right;\">\n      <th></th>\n      <th>0</th>\n    </tr>\n  </thead>\n  <tbody>\n    <tr>\n      <th>0</th>\n      <td>0.717787</td>\n    </tr>\n    <tr>\n      <th>1</th>\n      <td>0.717787</td>\n    </tr>\n    <tr>\n      <th>2</th>\n      <td>0.717787</td>\n    </tr>\n    <tr>\n      <th>3</th>\n      <td>0.717787</td>\n    </tr>\n    <tr>\n      <th>4</th>\n      <td>0.717787</td>\n    </tr>\n    <tr>\n      <th>...</th>\n      <td>...</td>\n    </tr>\n    <tr>\n      <th>1780</th>\n      <td>0.357201</td>\n    </tr>\n    <tr>\n      <th>1781</th>\n      <td>0.357201</td>\n    </tr>\n    <tr>\n      <th>1782</th>\n      <td>0.026685</td>\n    </tr>\n    <tr>\n      <th>1783</th>\n      <td>0.026685</td>\n    </tr>\n    <tr>\n      <th>1784</th>\n      <td>0.026685</td>\n    </tr>\n  </tbody>\n</table>\n<p>17850 rows × 1 columns</p>\n</div>"
     },
     "execution_count": 5,
     "metadata": {},
     "output_type": "execute_result"
    }
   ],
   "source": [
    "Y_pred_tot"
   ],
   "metadata": {
    "collapsed": false
   }
  },
  {
   "cell_type": "code",
   "execution_count": 6,
   "outputs": [],
   "source": [
    "test_set = pd.read_csv(\"training.csv\")\n",
    "test_set = test_set.drop(['Unnamed: 0', 'Date', 'conditions', 'visibility', 'snow', 'snowdepth', 'winddir', 'solar_production'], axis=1)\n",
    "hgbr = HistGradientBoostingRegressor().fit(X, Y)\n",
    "PREDICTED = hgbr.predict(test_set)\n",
    "#np.savetxt(\"kaggle.csv\", PREDICTED, delimiter=\",\")"
   ],
   "metadata": {
    "collapsed": false
   }
  }
 ],
 "metadata": {
  "kernelspec": {
   "display_name": "Python 3",
   "language": "python",
   "name": "python3"
  },
  "language_info": {
   "codemirror_mode": {
    "name": "ipython",
    "version": 2
   },
   "file_extension": ".py",
   "mimetype": "text/x-python",
   "name": "python",
   "nbconvert_exporter": "python",
   "pygments_lexer": "ipython2",
   "version": "2.7.6"
  }
 },
 "nbformat": 4,
 "nbformat_minor": 0
}
