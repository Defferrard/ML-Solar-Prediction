{
 "cells": [
  {
   "cell_type": "code",
   "execution_count": 3,
   "outputs": [],
   "source": [
    "import pandas as pd\n",
    "from sklearn.metrics import r2_score\n",
    "import suncalc\n",
    "\n",
    "from sklearn.impute import KNNImputer\n",
    "from sklearn.preprocessing import MinMaxScaler\n",
    "from sklearn.impute import SimpleImputer\n",
    "from sklearn.ensemble import GradientBoostingRegressor\n",
    "from sklearn.model_selection import cross_validate\n",
    "from sklearn.model_selection import GridSearchCV\n",
    "\n",
    "\n",
    "latitude = 46.5095\n",
    "longitude = 6.6243"
   ],
   "metadata": {
    "collapsed": false
   }
  },
  {
   "cell_type": "code",
   "execution_count": 4,
   "outputs": [],
   "source": [
    "training_set = pd.read_csv(\"training.csv\")\n",
    "test_set = pd.read_csv(\"test_students.csv\")\n",
    "x = training_set.drop(['solar_production'], axis=1).copy()\n",
    "y = training_set['solar_production'].copy()"
   ],
   "metadata": {
    "collapsed": false
   }
  },
  {
   "cell_type": "code",
   "execution_count": 5,
   "outputs": [],
   "source": [
    "x['Date'] = pd.to_datetime(x['Date'])\n",
    "x.sort_values(by='Date', ascending=True)\n",
    "x['Date'] = x['Date'] - pd.Timedelta(hours=2)\n",
    "x['timestamp'] = x['Date'].apply(lambda x: int(x.timestamp()))\n",
    "x['day'] = x['Date'].dt.day\n",
    "x['month'] = x['Date'].dt.month\n",
    "x['hour'] = x['Date'].dt.hour\n",
    "x['minute'] = x['Date'].dt.minute\n",
    "x['timeofday'] = x['minute'] + x['hour'] * 60\n",
    "x['timeofyear'] = (x['Date'].dt.dayofyear * 24 + x['hour']) * 60 + x['minute']"
   ],
   "metadata": {
    "collapsed": false
   }
  },
  {
   "cell_type": "code",
   "execution_count": 6,
   "outputs": [],
   "source": [
    "latitude = 46.5095\n",
    "longitude = 6.6243\n",
    "\n",
    "sun_pos = pd.DataFrame.from_dict(\n",
    "    x['Date'].apply(lambda d: suncalc.get_position(d.to_pydatetime(), longitude, latitude)).to_dict(), orient='index')\n",
    "sun_time = pd.DataFrame.from_dict(\n",
    "    x['Date'].apply(lambda d: suncalc.get_times(d.to_pydatetime(), longitude, latitude)).to_dict(), orient='index')\n",
    "sun_time = sun_time.applymap(pd.to_datetime)\n",
    "sun_time = sun_time.apply(lambda x: x.dt.second + x.dt.minute * 60 + x.dt.hour * 3600)\n",
    "sun_time = sun_time.subtract(x['timeofday'], axis=0)\n",
    "x = pd.concat([x, sun_pos, sun_time], axis=1)"
   ],
   "metadata": {
    "collapsed": false
   }
  },
  {
   "cell_type": "code",
   "execution_count": 7,
   "outputs": [],
   "source": [
    "x = x.drop(['Unnamed: 0', 'Date', 'conditions'], axis=1)\n",
    "\n",
    "# Create a boolean mask that is true for rows where column A is not NaN\n",
    "mask = x['temp'].notna()\n",
    "\n",
    "# Use the mask to select the rows where column A is not NaN and column B has NaN\n",
    "x.loc[mask & x['uvindex'].isna(), 'uvindex'] = 0\n",
    "x.loc[mask & x['solarenergy'].isna(), 'solarenergy'] = 0"
   ],
   "metadata": {
    "collapsed": false
   }
  },
  {
   "cell_type": "code",
   "execution_count": 8,
   "outputs": [],
   "source": [
    "scaler = MinMaxScaler()\n",
    "scaler.fit(x)\n",
    "x = pd.DataFrame(scaler.transform(x), columns=x.columns)\n",
    "\n",
    "imp = KNNImputer(n_neighbors=3, weights=\"distance\")\n",
    "x = pd.DataFrame(imp.fit_transform(x), columns=x.columns)"
   ],
   "metadata": {
    "collapsed": false
   }
  },
  {
   "cell_type": "code",
   "execution_count": 9,
   "outputs": [],
   "source": [
    "c1 = -42.379\n",
    "c2 = 2.04901523\n",
    "c3 = 10.14333127\n",
    "c4 = -0.22475541\n",
    "c5 = -6.83783e-03\n",
    "c6 = -5.481717e-02\n",
    "c7 = 1.22874e-03\n",
    "c8 = 8.5282e-04\n",
    "c9 = -1.99e-06\n",
    "x['heat_index'] = c1 + c2 * x['temp'] + c3 * x['humidity'] + c4 * x['temp'] * x['humidity'] + c5 * x[\n",
    "    'temp'] ** 2 + c6 * x['humidity'] ** 2 + c7 * x['temp'] ** 2 * x['humidity'] + c8 * x['temp'] * x[\n",
    "                      'humidity'] ** 2 + c9 * x['temp'] ** 2 * x['humidity'] ** 2"
   ],
   "metadata": {
    "collapsed": false
   }
  },
  {
   "cell_type": "code",
   "execution_count": 10,
   "outputs": [],
   "source": [
    "x = x.drop(['snow', 'snowdepth', 'winddir', 'minute', 'hour', 'month',  'visibility', 'windspeed', 'solarradiation'], axis=1)\n",
    "\n",
    "x = x.drop(sun_time.columns, axis=1)\n",
    "x = x.drop(sun_pos.columns, axis=1)"
   ],
   "metadata": {
    "collapsed": false
   }
  },
  {
   "cell_type": "code",
   "execution_count": 11,
   "outputs": [],
   "source": [
    "# sklearn-genetic-opt\n",
    "from sklearn_genetic import GASearchCV\n",
    "from sklearn_genetic import ExponentialAdapter\n",
    "from sklearn_genetic.space import Continuous, Categorical, Integer\n",
    "from sklearn.model_selection import KFold\n",
    "\n",
    "mutation_adapter = ExponentialAdapter(initial_value=0.8, end_value=0.2, adaptive_rate=0.1)\n",
    "crossover_adapter = ExponentialAdapter(initial_value=0.2, end_value=0.8, adaptive_rate=0.1)\n",
    "from sklearn.model_selection import train_test_split, StratifiedKFold\n",
    "cv = KFold(n_splits=3, shuffle=False)\n",
    "\n",
    "\n",
    "param_grid = {\n",
    "    'loss': Categorical(['huber']),\n",
    "    'learning_rate': Continuous(0.04, 0.06, distribution='log-uniform'),\n",
    "    'n_estimators': Integer(60, 80),\n",
    "    'subsample': Continuous(0.01, 0.5, distribution='log-uniform'),\n",
    "    'criterion': Categorical(['friedman_mse']),\n",
    "    'min_samples_split': Integer(30,50),\n",
    "    'min_samples_leaf': Integer(40,60),\n",
    "    'max_depth': Integer(4, 10),\n",
    "    'min_impurity_decrease': Continuous(0.2, 0.5, distribution='log-uniform'),\n",
    "    'max_leaf_nodes': Integer(5,15),\n",
    "    'random_state': Integer(42,42)\n",
    "}\n",
    "\n",
    "model = GradientBoostingRegressor()\n",
    "\n",
    "grid_search = GASearchCV(estimator=model,\n",
    "                         cv=cv,\n",
    "                         scoring='r2',\n",
    "                         population_size=20,\n",
    "                         generations=25,\n",
    "                         mutation_probability=mutation_adapter,\n",
    "                         crossover_probability=crossover_adapter,\n",
    "                         param_grid=param_grid,\n",
    "                         n_jobs=-1)"
   ],
   "metadata": {
    "collapsed": false
   }
  },
  {
   "cell_type": "code",
   "execution_count": 12,
   "outputs": [
    {
     "name": "stdout",
     "output_type": "stream",
     "text": [
      "gen\tnevals\tfitness \tfitness_std\tfitness_max\tfitness_min\n",
      "0  \t20    \t0.809562\t0.0351015  \t0.835518   \t0.686627   \n",
      "1  \t40    \t0.826018\t0.005771   \t0.835518   \t0.81291    \n",
      "2  \t40    \t0.829815\t0.00466053 \t0.836292   \t0.815953   \n",
      "3  \t40    \t0.831911\t0.00115365 \t0.832726   \t0.828233   \n",
      "4  \t40    \t0.832279\t0.00076675 \t0.833566   \t0.830447   \n",
      "5  \t40    \t0.832889\t0.000426695\t0.833587   \t0.832273   \n",
      "6  \t40    \t0.833374\t0.000647968\t0.83457    \t0.832353   \n",
      "7  \t40    \t0.834376\t0.000982133\t0.835946   \t0.833566   \n",
      "8  \t40    \t0.835583\t0.00101119 \t0.83714    \t0.833824   \n",
      "9  \t40    \t0.836139\t0.000683415\t0.83714    \t0.833765   \n",
      "10 \t40    \t0.836556\t0.000545942\t0.83714    \t0.835613   \n",
      "11 \t40    \t0.836735\t0.000629241\t0.83714    \t0.834967   \n",
      "12 \t40    \t0.83714 \t0          \t0.83714    \t0.83714    \n",
      "13 \t40    \t0.83714 \t0          \t0.83714    \t0.83714    \n",
      "14 \t40    \t0.83714 \t0          \t0.83714    \t0.83714    \n",
      "15 \t40    \t0.83714 \t0          \t0.83714    \t0.83714    \n",
      "16 \t40    \t0.83714 \t0          \t0.83714    \t0.83714    \n",
      "17 \t40    \t0.83714 \t0          \t0.83714    \t0.83714    \n",
      "18 \t40    \t0.83714 \t0          \t0.83714    \t0.83714    \n",
      "19 \t40    \t0.83714 \t0          \t0.83714    \t0.83714    \n",
      "20 \t40    \t0.837143\t1.45579e-05\t0.837206   \t0.83714    \n",
      "21 \t40    \t0.837153\t2.67186e-05\t0.837206   \t0.83714    \n",
      "22 \t40    \t0.837183\t3.18599e-05\t0.837206   \t0.83714    \n",
      "23 \t40    \t0.837196\t2.38511e-05\t0.837206   \t0.83714    \n",
      "24 \t40    \t0.837206\t0          \t0.837206   \t0.837206   \n",
      "25 \t40    \t0.837206\t0          \t0.837206   \t0.837206   \n",
      "Best parameters:  {'loss': 'huber', 'learning_rate': 0.0535038718924189, 'n_estimators': 65, 'subsample': 0.22459569628555273, 'criterion': 'friedman_mse', 'min_samples_split': 39, 'min_samples_leaf': 49, 'max_depth': 9, 'min_impurity_decrease': 0.4333439547159551, 'max_leaf_nodes': 10, 'random_state': 42}\n",
      "Best score:  0.8379781505525802\n"
     ]
    }
   ],
   "source": [
    "grid_search.fit(x, y)\n",
    "print(\"Best parameters: \", grid_search.best_params_)\n",
    "print(\"Best score: \", grid_search.best_score_)"
   ],
   "metadata": {
    "collapsed": false
   }
  },
  {
   "cell_type": "code",
   "execution_count": 14,
   "outputs": [
    {
     "data": {
      "text/plain": "GradientBoostingRegressor(learning_rate=0.07, loss='huber', min_samples_leaf=15,\n                          min_samples_split=50, random_state=42, tol=1e-10)",
      "text/html": "<style>#sk-container-id-2 {color: black;background-color: white;}#sk-container-id-2 pre{padding: 0;}#sk-container-id-2 div.sk-toggleable {background-color: white;}#sk-container-id-2 label.sk-toggleable__label {cursor: pointer;display: block;width: 100%;margin-bottom: 0;padding: 0.3em;box-sizing: border-box;text-align: center;}#sk-container-id-2 label.sk-toggleable__label-arrow:before {content: \"▸\";float: left;margin-right: 0.25em;color: #696969;}#sk-container-id-2 label.sk-toggleable__label-arrow:hover:before {color: black;}#sk-container-id-2 div.sk-estimator:hover label.sk-toggleable__label-arrow:before {color: black;}#sk-container-id-2 div.sk-toggleable__content {max-height: 0;max-width: 0;overflow: hidden;text-align: left;background-color: #f0f8ff;}#sk-container-id-2 div.sk-toggleable__content pre {margin: 0.2em;color: black;border-radius: 0.25em;background-color: #f0f8ff;}#sk-container-id-2 input.sk-toggleable__control:checked~div.sk-toggleable__content {max-height: 200px;max-width: 100%;overflow: auto;}#sk-container-id-2 input.sk-toggleable__control:checked~label.sk-toggleable__label-arrow:before {content: \"▾\";}#sk-container-id-2 div.sk-estimator input.sk-toggleable__control:checked~label.sk-toggleable__label {background-color: #d4ebff;}#sk-container-id-2 div.sk-label input.sk-toggleable__control:checked~label.sk-toggleable__label {background-color: #d4ebff;}#sk-container-id-2 input.sk-hidden--visually {border: 0;clip: rect(1px 1px 1px 1px);clip: rect(1px, 1px, 1px, 1px);height: 1px;margin: -1px;overflow: hidden;padding: 0;position: absolute;width: 1px;}#sk-container-id-2 div.sk-estimator {font-family: monospace;background-color: #f0f8ff;border: 1px dotted black;border-radius: 0.25em;box-sizing: border-box;margin-bottom: 0.5em;}#sk-container-id-2 div.sk-estimator:hover {background-color: #d4ebff;}#sk-container-id-2 div.sk-parallel-item::after {content: \"\";width: 100%;border-bottom: 1px solid gray;flex-grow: 1;}#sk-container-id-2 div.sk-label:hover label.sk-toggleable__label {background-color: #d4ebff;}#sk-container-id-2 div.sk-serial::before {content: \"\";position: absolute;border-left: 1px solid gray;box-sizing: border-box;top: 0;bottom: 0;left: 50%;z-index: 0;}#sk-container-id-2 div.sk-serial {display: flex;flex-direction: column;align-items: center;background-color: white;padding-right: 0.2em;padding-left: 0.2em;position: relative;}#sk-container-id-2 div.sk-item {position: relative;z-index: 1;}#sk-container-id-2 div.sk-parallel {display: flex;align-items: stretch;justify-content: center;background-color: white;position: relative;}#sk-container-id-2 div.sk-item::before, #sk-container-id-2 div.sk-parallel-item::before {content: \"\";position: absolute;border-left: 1px solid gray;box-sizing: border-box;top: 0;bottom: 0;left: 50%;z-index: -1;}#sk-container-id-2 div.sk-parallel-item {display: flex;flex-direction: column;z-index: 1;position: relative;background-color: white;}#sk-container-id-2 div.sk-parallel-item:first-child::after {align-self: flex-end;width: 50%;}#sk-container-id-2 div.sk-parallel-item:last-child::after {align-self: flex-start;width: 50%;}#sk-container-id-2 div.sk-parallel-item:only-child::after {width: 0;}#sk-container-id-2 div.sk-dashed-wrapped {border: 1px dashed gray;margin: 0 0.4em 0.5em 0.4em;box-sizing: border-box;padding-bottom: 0.4em;background-color: white;}#sk-container-id-2 div.sk-label label {font-family: monospace;font-weight: bold;display: inline-block;line-height: 1.2em;}#sk-container-id-2 div.sk-label-container {text-align: center;}#sk-container-id-2 div.sk-container {/* jupyter's `normalize.less` sets `[hidden] { display: none; }` but bootstrap.min.css set `[hidden] { display: none !important; }` so we also need the `!important` here to be able to override the default hidden behavior on the sphinx rendered scikit-learn.org. See: https://github.com/scikit-learn/scikit-learn/issues/21755 */display: inline-block !important;position: relative;}#sk-container-id-2 div.sk-text-repr-fallback {display: none;}</style><div id=\"sk-container-id-2\" class=\"sk-top-container\"><div class=\"sk-text-repr-fallback\"><pre>GradientBoostingRegressor(learning_rate=0.07, loss=&#x27;huber&#x27;, min_samples_leaf=15,\n                          min_samples_split=50, random_state=42, tol=1e-10)</pre><b>In a Jupyter environment, please rerun this cell to show the HTML representation or trust the notebook. <br />On GitHub, the HTML representation is unable to render, please try loading this page with nbviewer.org.</b></div><div class=\"sk-container\" hidden><div class=\"sk-item\"><div class=\"sk-estimator sk-toggleable\"><input class=\"sk-toggleable__control sk-hidden--visually\" id=\"sk-estimator-id-2\" type=\"checkbox\" checked><label for=\"sk-estimator-id-2\" class=\"sk-toggleable__label sk-toggleable__label-arrow\">GradientBoostingRegressor</label><div class=\"sk-toggleable__content\"><pre>GradientBoostingRegressor(learning_rate=0.07, loss=&#x27;huber&#x27;, min_samples_leaf=15,\n                          min_samples_split=50, random_state=42, tol=1e-10)</pre></div></div></div></div></div>"
     },
     "execution_count": 14,
     "metadata": {},
     "output_type": "execute_result"
    }
   ],
   "source": [
    "model = GradientBoostingRegressor(tol=1e-10, learning_rate=0.07, loss='huber', min_samples_leaf=15, min_samples_split=50, random_state=42)\n",
    "model.fit(x, y)"
   ],
   "metadata": {
    "collapsed": false
   }
  },
  {
   "cell_type": "code",
   "execution_count": 15,
   "outputs": [
    {
     "data": {
      "text/plain": "fit_time      2.181290\nscore_time    0.002000\ntest_r2       0.786743\ndtype: float64"
     },
     "execution_count": 15,
     "metadata": {},
     "output_type": "execute_result"
    }
   ],
   "source": [
    "res = pd.DataFrame(cross_validate(estimator=model,\n",
    "                                  X=x,\n",
    "                                  y=y,\n",
    "                                  cv=10,\n",
    "                                  scoring=['r2']))\n",
    "res.median()"
   ],
   "metadata": {
    "collapsed": false
   }
  },
  {
   "cell_type": "code",
   "execution_count": 16,
   "outputs": [],
   "source": [
    "res.median()"
   ],
   "metadata": {
    "collapsed": false
   }
  },
  {
   "cell_type": "code",
   "execution_count": null,
   "outputs": [],
   "source": [
    "0.7902499128274068"
   ],
   "metadata": {
    "collapsed": false
   }
  },
  {
   "cell_type": "code",
   "execution_count": null,
   "outputs": [],
   "source": [],
   "metadata": {
    "collapsed": false
   }
  }
 ],
 "metadata": {
  "kernelspec": {
   "display_name": "Python 3",
   "language": "python",
   "name": "python3"
  },
  "language_info": {
   "codemirror_mode": {
    "name": "ipython",
    "version": 2
   },
   "file_extension": ".py",
   "mimetype": "text/x-python",
   "name": "python",
   "nbconvert_exporter": "python",
   "pygments_lexer": "ipython2",
   "version": "2.7.6"
  }
 },
 "nbformat": 4,
 "nbformat_minor": 0
}
