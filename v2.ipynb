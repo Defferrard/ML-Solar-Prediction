{
 "cells": [
  {
   "cell_type": "markdown",
   "source": [
    "[SKLearn GaussianProcessRegressor](https://scikit-learn.org/stable/modules/generated/sklearn.gaussian_process.GaussianProcessRegressor.html)\n",
    "\n",
    "# TODO\n",
    "\n"
   ],
   "metadata": {
    "collapsed": false
   }
  },
  {
   "cell_type": "code",
   "execution_count": 1,
   "outputs": [],
   "source": [
    "import pandas as pd\n",
    "from sklearn.metrics import r2_score\n",
    "\n",
    "from sklearn.ensemble import HistGradientBoostingRegressor\n",
    "\n",
    "from tester import Algorithm, Tester"
   ],
   "metadata": {
    "collapsed": false
   }
  },
  {
   "cell_type": "code",
   "execution_count": 2,
   "outputs": [],
   "source": [
    "class CustomHGBR(Algorithm):\n",
    "    def format_x(self, x:pd.DataFrame) -> pd.DataFrame:\n",
    "        x = super().format_x(x)\n",
    "        x = x.drop(['Unnamed: 0', 'Date', 'precip' ,'snow', 'snowdepth', 'winddir', 'conditions'], axis=1)\n",
    "        return x\n",
    "\n",
    "    def algo(self, x_train: pd.DataFrame, y_train: pd.DataFrame, x_test: pd.DataFrame) -> pd.DataFrame:\n",
    "        hgbr = HistGradientBoostingRegressor()\n",
    "        hgbr.fit(x_train, y_train)\n",
    "        y_pred = hgbr.predict(x_test)\n",
    "        y_pred[y_pred < 0] = 0\n",
    "        return y_pred\n",
    "\n",
    "algo = CustomHGBR()"
   ],
   "metadata": {
    "collapsed": false
   }
  },
  {
   "cell_type": "code",
   "execution_count": null,
   "outputs": [],
   "source": [
    "T = Tester()\n",
    "[res, y_pred_tot, y_true_tot] = T.evaluate(algo)\n",
    "\n",
    "res.hist()\n",
    "r2_score(y_true_tot, y_pred_tot)"
   ],
   "metadata": {
    "collapsed": false,
    "pycharm": {
     "is_executing": true
    }
   }
  },
  {
   "cell_type": "code",
   "execution_count": null,
   "outputs": [],
   "source": [
    "T.generate_result(algo, csv_name=\"v1.csv\")['predicted'].plot()"
   ],
   "metadata": {
    "collapsed": false,
    "pycharm": {
     "is_executing": true
    }
   }
  }
 ],
 "metadata": {
  "kernelspec": {
   "display_name": "Python 3",
   "language": "python",
   "name": "python3"
  },
  "language_info": {
   "codemirror_mode": {
    "name": "ipython",
    "version": 2
   },
   "file_extension": ".py",
   "mimetype": "text/x-python",
   "name": "python",
   "nbconvert_exporter": "python",
   "pygments_lexer": "ipython2",
   "version": "2.7.6"
  }
 },
 "nbformat": 4,
 "nbformat_minor": 0
}
