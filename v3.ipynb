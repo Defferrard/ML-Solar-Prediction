{
 "cells": [
  {
   "cell_type": "code",
   "execution_count": 1,
   "metadata": {
    "collapsed": true
   },
   "outputs": [],
   "source": [
    "import pickle\n",
    "\n",
    "import pandas as pd\n",
    "\n",
    "from sklearn.neural_network import MLPRegressor\n",
    "from sklearn.metrics import r2_score"
   ]
  },
  {
   "cell_type": "code",
   "execution_count": 2,
   "outputs": [],
   "source": [
    "fields_to_delete = ['Unnamed: 0', 'Date', 'precip', 'snow', 'snowdepth', 'windspeed', 'winddir', 'conditions']\n",
    "fields_to_keep = ['temp', 'humidity', 'visibility', 'cloudcover', 'solarradiation', 'solarenergy', 'uvindex']\n",
    "fields_to_predict_missing = ['temp', 'humidity', 'cloudcover', 'hour', 'month']"
   ],
   "metadata": {
    "collapsed": false
   }
  },
  {
   "cell_type": "markdown",
   "source": [
    "# Load training set and clean the data for training\n",
    "\n",
    "Missing values for the columns {visibility, solarradiation, solarenergy, uvindex} get predicted by another Model (RandomForestRegressor)"
   ],
   "metadata": {
    "collapsed": false
   }
  },
  {
   "cell_type": "code",
   "execution_count": 3,
   "outputs": [],
   "source": [
    "dataset = pd.read_csv(\"training.csv\")"
   ],
   "metadata": {
    "collapsed": false
   }
  },
  {
   "cell_type": "code",
   "execution_count": 4,
   "outputs": [
    {
     "data": {
      "text/plain": "            temp  humidity  visibility  cloudcover  solarradiation  \\\n0      21.277778     51.52        21.7         9.5            33.0   \n1      21.277778     51.52        21.7         9.5            33.0   \n2      21.277778     51.52        21.7         9.5            33.0   \n3      21.277778     51.52        21.7         9.5            33.0   \n4      21.277778     51.52        21.7         9.5            33.0   \n...          ...       ...         ...         ...             ...   \n17851  10.888889     76.90         5.6        88.0           144.0   \n17852  10.888889     76.90         5.6        88.0           144.0   \n17853  10.888889     76.90         5.6        88.0           144.0   \n17854  10.888889     76.90         5.6        88.0           144.0   \n17855  10.888889     76.90         5.6        88.0           144.0   \n\n       solarenergy  uvindex  solar_production  month  hour  \n0              0.1      0.0               0.0      7     2  \n1              0.1      0.0               0.0      7     2  \n2              0.1      0.0               0.0      7     2  \n3              0.1      0.0               0.0      7     2  \n4              0.1      0.0               0.0      7     2  \n...            ...      ...               ...    ...   ...  \n17851          0.5      1.0               0.0      9     1  \n17852          0.5      1.0               0.0      9     1  \n17853          0.5      1.0               0.0      9     1  \n17854          0.5      1.0               0.0      9     1  \n17855          0.5      1.0               0.0      9     1  \n\n[17856 rows x 10 columns]",
      "text/html": "<div>\n<style scoped>\n    .dataframe tbody tr th:only-of-type {\n        vertical-align: middle;\n    }\n\n    .dataframe tbody tr th {\n        vertical-align: top;\n    }\n\n    .dataframe thead th {\n        text-align: right;\n    }\n</style>\n<table border=\"1\" class=\"dataframe\">\n  <thead>\n    <tr style=\"text-align: right;\">\n      <th></th>\n      <th>temp</th>\n      <th>humidity</th>\n      <th>visibility</th>\n      <th>cloudcover</th>\n      <th>solarradiation</th>\n      <th>solarenergy</th>\n      <th>uvindex</th>\n      <th>solar_production</th>\n      <th>month</th>\n      <th>hour</th>\n    </tr>\n  </thead>\n  <tbody>\n    <tr>\n      <th>0</th>\n      <td>21.277778</td>\n      <td>51.52</td>\n      <td>21.7</td>\n      <td>9.5</td>\n      <td>33.0</td>\n      <td>0.1</td>\n      <td>0.0</td>\n      <td>0.0</td>\n      <td>7</td>\n      <td>2</td>\n    </tr>\n    <tr>\n      <th>1</th>\n      <td>21.277778</td>\n      <td>51.52</td>\n      <td>21.7</td>\n      <td>9.5</td>\n      <td>33.0</td>\n      <td>0.1</td>\n      <td>0.0</td>\n      <td>0.0</td>\n      <td>7</td>\n      <td>2</td>\n    </tr>\n    <tr>\n      <th>2</th>\n      <td>21.277778</td>\n      <td>51.52</td>\n      <td>21.7</td>\n      <td>9.5</td>\n      <td>33.0</td>\n      <td>0.1</td>\n      <td>0.0</td>\n      <td>0.0</td>\n      <td>7</td>\n      <td>2</td>\n    </tr>\n    <tr>\n      <th>3</th>\n      <td>21.277778</td>\n      <td>51.52</td>\n      <td>21.7</td>\n      <td>9.5</td>\n      <td>33.0</td>\n      <td>0.1</td>\n      <td>0.0</td>\n      <td>0.0</td>\n      <td>7</td>\n      <td>2</td>\n    </tr>\n    <tr>\n      <th>4</th>\n      <td>21.277778</td>\n      <td>51.52</td>\n      <td>21.7</td>\n      <td>9.5</td>\n      <td>33.0</td>\n      <td>0.1</td>\n      <td>0.0</td>\n      <td>0.0</td>\n      <td>7</td>\n      <td>2</td>\n    </tr>\n    <tr>\n      <th>...</th>\n      <td>...</td>\n      <td>...</td>\n      <td>...</td>\n      <td>...</td>\n      <td>...</td>\n      <td>...</td>\n      <td>...</td>\n      <td>...</td>\n      <td>...</td>\n      <td>...</td>\n    </tr>\n    <tr>\n      <th>17851</th>\n      <td>10.888889</td>\n      <td>76.90</td>\n      <td>5.6</td>\n      <td>88.0</td>\n      <td>144.0</td>\n      <td>0.5</td>\n      <td>1.0</td>\n      <td>0.0</td>\n      <td>9</td>\n      <td>1</td>\n    </tr>\n    <tr>\n      <th>17852</th>\n      <td>10.888889</td>\n      <td>76.90</td>\n      <td>5.6</td>\n      <td>88.0</td>\n      <td>144.0</td>\n      <td>0.5</td>\n      <td>1.0</td>\n      <td>0.0</td>\n      <td>9</td>\n      <td>1</td>\n    </tr>\n    <tr>\n      <th>17853</th>\n      <td>10.888889</td>\n      <td>76.90</td>\n      <td>5.6</td>\n      <td>88.0</td>\n      <td>144.0</td>\n      <td>0.5</td>\n      <td>1.0</td>\n      <td>0.0</td>\n      <td>9</td>\n      <td>1</td>\n    </tr>\n    <tr>\n      <th>17854</th>\n      <td>10.888889</td>\n      <td>76.90</td>\n      <td>5.6</td>\n      <td>88.0</td>\n      <td>144.0</td>\n      <td>0.5</td>\n      <td>1.0</td>\n      <td>0.0</td>\n      <td>9</td>\n      <td>1</td>\n    </tr>\n    <tr>\n      <th>17855</th>\n      <td>10.888889</td>\n      <td>76.90</td>\n      <td>5.6</td>\n      <td>88.0</td>\n      <td>144.0</td>\n      <td>0.5</td>\n      <td>1.0</td>\n      <td>0.0</td>\n      <td>9</td>\n      <td>1</td>\n    </tr>\n  </tbody>\n</table>\n<p>17856 rows × 10 columns</p>\n</div>"
     },
     "execution_count": 4,
     "metadata": {},
     "output_type": "execute_result"
    }
   ],
   "source": [
    "# Remove irrelevant columns from Dataset\n",
    "dates = dataset['Date']\n",
    "\n",
    "timestamps = pd.to_datetime(dates)\n",
    "\n",
    "hours = timestamps.dt.hour\n",
    "months = timestamps.dt.month\n",
    "\n",
    "dataset = dataset.drop(fields_to_delete, axis=1)\n",
    "dataset['month'] = months\n",
    "dataset['hour'] = hours\n",
    "\n",
    "dataset"
   ],
   "metadata": {
    "collapsed": false
   }
  },
  {
   "cell_type": "code",
   "execution_count": 5,
   "outputs": [],
   "source": [
    "dataset = dataset.dropna(subset=fields_to_predict_missing)"
   ],
   "metadata": {
    "collapsed": false
   }
  },
  {
   "cell_type": "code",
   "execution_count": 6,
   "outputs": [],
   "source": [
    "# Import pretrained model to predict missing values of the fields: Visibility, Solarradiation, Solarenergy, Uvindex\n",
    "loaded_model = pickle.load(open(\"predict_missing_model.pickle\", \"rb\"))"
   ],
   "metadata": {
    "collapsed": false
   }
  },
  {
   "cell_type": "code",
   "execution_count": 7,
   "outputs": [
    {
     "data": {
      "text/plain": "            temp  humidity  cloudcover  hour  month\n0      21.277778     51.52         9.5     2      7\n1      21.277778     51.52         9.5     2      7\n2      21.277778     51.52         9.5     2      7\n3      21.277778     51.52         9.5     2      7\n4      21.277778     51.52         9.5     2      7\n...          ...       ...         ...   ...    ...\n17851  10.888889     76.90        88.0     1      9\n17852  10.888889     76.90        88.0     1      9\n17853  10.888889     76.90        88.0     1      9\n17854  10.888889     76.90        88.0     1      9\n17855  10.888889     76.90        88.0     1      9\n\n[17264 rows x 5 columns]",
      "text/html": "<div>\n<style scoped>\n    .dataframe tbody tr th:only-of-type {\n        vertical-align: middle;\n    }\n\n    .dataframe tbody tr th {\n        vertical-align: top;\n    }\n\n    .dataframe thead th {\n        text-align: right;\n    }\n</style>\n<table border=\"1\" class=\"dataframe\">\n  <thead>\n    <tr style=\"text-align: right;\">\n      <th></th>\n      <th>temp</th>\n      <th>humidity</th>\n      <th>cloudcover</th>\n      <th>hour</th>\n      <th>month</th>\n    </tr>\n  </thead>\n  <tbody>\n    <tr>\n      <th>0</th>\n      <td>21.277778</td>\n      <td>51.52</td>\n      <td>9.5</td>\n      <td>2</td>\n      <td>7</td>\n    </tr>\n    <tr>\n      <th>1</th>\n      <td>21.277778</td>\n      <td>51.52</td>\n      <td>9.5</td>\n      <td>2</td>\n      <td>7</td>\n    </tr>\n    <tr>\n      <th>2</th>\n      <td>21.277778</td>\n      <td>51.52</td>\n      <td>9.5</td>\n      <td>2</td>\n      <td>7</td>\n    </tr>\n    <tr>\n      <th>3</th>\n      <td>21.277778</td>\n      <td>51.52</td>\n      <td>9.5</td>\n      <td>2</td>\n      <td>7</td>\n    </tr>\n    <tr>\n      <th>4</th>\n      <td>21.277778</td>\n      <td>51.52</td>\n      <td>9.5</td>\n      <td>2</td>\n      <td>7</td>\n    </tr>\n    <tr>\n      <th>...</th>\n      <td>...</td>\n      <td>...</td>\n      <td>...</td>\n      <td>...</td>\n      <td>...</td>\n    </tr>\n    <tr>\n      <th>17851</th>\n      <td>10.888889</td>\n      <td>76.90</td>\n      <td>88.0</td>\n      <td>1</td>\n      <td>9</td>\n    </tr>\n    <tr>\n      <th>17852</th>\n      <td>10.888889</td>\n      <td>76.90</td>\n      <td>88.0</td>\n      <td>1</td>\n      <td>9</td>\n    </tr>\n    <tr>\n      <th>17853</th>\n      <td>10.888889</td>\n      <td>76.90</td>\n      <td>88.0</td>\n      <td>1</td>\n      <td>9</td>\n    </tr>\n    <tr>\n      <th>17854</th>\n      <td>10.888889</td>\n      <td>76.90</td>\n      <td>88.0</td>\n      <td>1</td>\n      <td>9</td>\n    </tr>\n    <tr>\n      <th>17855</th>\n      <td>10.888889</td>\n      <td>76.90</td>\n      <td>88.0</td>\n      <td>1</td>\n      <td>9</td>\n    </tr>\n  </tbody>\n</table>\n<p>17264 rows × 5 columns</p>\n</div>"
     },
     "execution_count": 7,
     "metadata": {},
     "output_type": "execute_result"
    }
   ],
   "source": [
    "set_predict_missing = pd.DataFrame()\n",
    "set_predict_missing = set_predict_missing.assign(**dataset[fields_to_predict_missing])\n",
    "set_predict_missing"
   ],
   "metadata": {
    "collapsed": false
   }
  },
  {
   "cell_type": "code",
   "execution_count": 8,
   "outputs": [
    {
     "data": {
      "text/plain": "       visibility  solarradiation  solarenergy  uvindex\n0            21.7            33.0          0.1      0.0\n1            21.7            33.0          0.1      0.0\n2            21.7            33.0          0.1      0.0\n3            21.7            33.0          0.1      0.0\n4            21.7            33.0          0.1      0.0\n...           ...             ...          ...      ...\n17259         5.6           144.0          0.5      1.0\n17260         5.6           144.0          0.5      1.0\n17261         5.6           144.0          0.5      1.0\n17262         5.6           144.0          0.5      1.0\n17263         5.6           144.0          0.5      1.0\n\n[17264 rows x 4 columns]",
      "text/html": "<div>\n<style scoped>\n    .dataframe tbody tr th:only-of-type {\n        vertical-align: middle;\n    }\n\n    .dataframe tbody tr th {\n        vertical-align: top;\n    }\n\n    .dataframe thead th {\n        text-align: right;\n    }\n</style>\n<table border=\"1\" class=\"dataframe\">\n  <thead>\n    <tr style=\"text-align: right;\">\n      <th></th>\n      <th>visibility</th>\n      <th>solarradiation</th>\n      <th>solarenergy</th>\n      <th>uvindex</th>\n    </tr>\n  </thead>\n  <tbody>\n    <tr>\n      <th>0</th>\n      <td>21.7</td>\n      <td>33.0</td>\n      <td>0.1</td>\n      <td>0.0</td>\n    </tr>\n    <tr>\n      <th>1</th>\n      <td>21.7</td>\n      <td>33.0</td>\n      <td>0.1</td>\n      <td>0.0</td>\n    </tr>\n    <tr>\n      <th>2</th>\n      <td>21.7</td>\n      <td>33.0</td>\n      <td>0.1</td>\n      <td>0.0</td>\n    </tr>\n    <tr>\n      <th>3</th>\n      <td>21.7</td>\n      <td>33.0</td>\n      <td>0.1</td>\n      <td>0.0</td>\n    </tr>\n    <tr>\n      <th>4</th>\n      <td>21.7</td>\n      <td>33.0</td>\n      <td>0.1</td>\n      <td>0.0</td>\n    </tr>\n    <tr>\n      <th>...</th>\n      <td>...</td>\n      <td>...</td>\n      <td>...</td>\n      <td>...</td>\n    </tr>\n    <tr>\n      <th>17259</th>\n      <td>5.6</td>\n      <td>144.0</td>\n      <td>0.5</td>\n      <td>1.0</td>\n    </tr>\n    <tr>\n      <th>17260</th>\n      <td>5.6</td>\n      <td>144.0</td>\n      <td>0.5</td>\n      <td>1.0</td>\n    </tr>\n    <tr>\n      <th>17261</th>\n      <td>5.6</td>\n      <td>144.0</td>\n      <td>0.5</td>\n      <td>1.0</td>\n    </tr>\n    <tr>\n      <th>17262</th>\n      <td>5.6</td>\n      <td>144.0</td>\n      <td>0.5</td>\n      <td>1.0</td>\n    </tr>\n    <tr>\n      <th>17263</th>\n      <td>5.6</td>\n      <td>144.0</td>\n      <td>0.5</td>\n      <td>1.0</td>\n    </tr>\n  </tbody>\n</table>\n<p>17264 rows × 4 columns</p>\n</div>"
     },
     "execution_count": 8,
     "metadata": {},
     "output_type": "execute_result"
    }
   ],
   "source": [
    "predicted_missing = loaded_model.predict(set_predict_missing)\n",
    "predicted_missing_df = pd.DataFrame(predicted_missing, columns=['visibility', 'solarradiation', 'solarenergy', 'uvindex'])\n",
    "predicted_missing_df"
   ],
   "metadata": {
    "collapsed": false
   }
  },
  {
   "cell_type": "code",
   "execution_count": 9,
   "outputs": [
    {
     "data": {
      "text/plain": "            temp  humidity  visibility  cloudcover  solarradiation  \\\n0      21.277778     51.52        21.7         9.5            33.0   \n1      21.277778     51.52        21.7         9.5            33.0   \n2      21.277778     51.52        21.7         9.5            33.0   \n3      21.277778     51.52        21.7         9.5            33.0   \n4      21.277778     51.52        21.7         9.5            33.0   \n...          ...       ...         ...         ...             ...   \n17851  10.888889     76.90         5.6        88.0           144.0   \n17852  10.888889     76.90         5.6        88.0           144.0   \n17853  10.888889     76.90         5.6        88.0           144.0   \n17854  10.888889     76.90         5.6        88.0           144.0   \n17855  10.888889     76.90         5.6        88.0           144.0   \n\n       solarenergy  uvindex  solar_production  month  hour  \n0              0.1      0.0               0.0      7     2  \n1              0.1      0.0               0.0      7     2  \n2              0.1      0.0               0.0      7     2  \n3              0.1      0.0               0.0      7     2  \n4              0.1      0.0               0.0      7     2  \n...            ...      ...               ...    ...   ...  \n17851          0.5      1.0               0.0      9     1  \n17852          0.5      1.0               0.0      9     1  \n17853          0.5      1.0               0.0      9     1  \n17854          0.5      1.0               0.0      9     1  \n17855          0.5      1.0               0.0      9     1  \n\n[17264 rows x 10 columns]",
      "text/html": "<div>\n<style scoped>\n    .dataframe tbody tr th:only-of-type {\n        vertical-align: middle;\n    }\n\n    .dataframe tbody tr th {\n        vertical-align: top;\n    }\n\n    .dataframe thead th {\n        text-align: right;\n    }\n</style>\n<table border=\"1\" class=\"dataframe\">\n  <thead>\n    <tr style=\"text-align: right;\">\n      <th></th>\n      <th>temp</th>\n      <th>humidity</th>\n      <th>visibility</th>\n      <th>cloudcover</th>\n      <th>solarradiation</th>\n      <th>solarenergy</th>\n      <th>uvindex</th>\n      <th>solar_production</th>\n      <th>month</th>\n      <th>hour</th>\n    </tr>\n  </thead>\n  <tbody>\n    <tr>\n      <th>0</th>\n      <td>21.277778</td>\n      <td>51.52</td>\n      <td>21.7</td>\n      <td>9.5</td>\n      <td>33.0</td>\n      <td>0.1</td>\n      <td>0.0</td>\n      <td>0.0</td>\n      <td>7</td>\n      <td>2</td>\n    </tr>\n    <tr>\n      <th>1</th>\n      <td>21.277778</td>\n      <td>51.52</td>\n      <td>21.7</td>\n      <td>9.5</td>\n      <td>33.0</td>\n      <td>0.1</td>\n      <td>0.0</td>\n      <td>0.0</td>\n      <td>7</td>\n      <td>2</td>\n    </tr>\n    <tr>\n      <th>2</th>\n      <td>21.277778</td>\n      <td>51.52</td>\n      <td>21.7</td>\n      <td>9.5</td>\n      <td>33.0</td>\n      <td>0.1</td>\n      <td>0.0</td>\n      <td>0.0</td>\n      <td>7</td>\n      <td>2</td>\n    </tr>\n    <tr>\n      <th>3</th>\n      <td>21.277778</td>\n      <td>51.52</td>\n      <td>21.7</td>\n      <td>9.5</td>\n      <td>33.0</td>\n      <td>0.1</td>\n      <td>0.0</td>\n      <td>0.0</td>\n      <td>7</td>\n      <td>2</td>\n    </tr>\n    <tr>\n      <th>4</th>\n      <td>21.277778</td>\n      <td>51.52</td>\n      <td>21.7</td>\n      <td>9.5</td>\n      <td>33.0</td>\n      <td>0.1</td>\n      <td>0.0</td>\n      <td>0.0</td>\n      <td>7</td>\n      <td>2</td>\n    </tr>\n    <tr>\n      <th>...</th>\n      <td>...</td>\n      <td>...</td>\n      <td>...</td>\n      <td>...</td>\n      <td>...</td>\n      <td>...</td>\n      <td>...</td>\n      <td>...</td>\n      <td>...</td>\n      <td>...</td>\n    </tr>\n    <tr>\n      <th>17851</th>\n      <td>10.888889</td>\n      <td>76.90</td>\n      <td>5.6</td>\n      <td>88.0</td>\n      <td>144.0</td>\n      <td>0.5</td>\n      <td>1.0</td>\n      <td>0.0</td>\n      <td>9</td>\n      <td>1</td>\n    </tr>\n    <tr>\n      <th>17852</th>\n      <td>10.888889</td>\n      <td>76.90</td>\n      <td>5.6</td>\n      <td>88.0</td>\n      <td>144.0</td>\n      <td>0.5</td>\n      <td>1.0</td>\n      <td>0.0</td>\n      <td>9</td>\n      <td>1</td>\n    </tr>\n    <tr>\n      <th>17853</th>\n      <td>10.888889</td>\n      <td>76.90</td>\n      <td>5.6</td>\n      <td>88.0</td>\n      <td>144.0</td>\n      <td>0.5</td>\n      <td>1.0</td>\n      <td>0.0</td>\n      <td>9</td>\n      <td>1</td>\n    </tr>\n    <tr>\n      <th>17854</th>\n      <td>10.888889</td>\n      <td>76.90</td>\n      <td>5.6</td>\n      <td>88.0</td>\n      <td>144.0</td>\n      <td>0.5</td>\n      <td>1.0</td>\n      <td>0.0</td>\n      <td>9</td>\n      <td>1</td>\n    </tr>\n    <tr>\n      <th>17855</th>\n      <td>10.888889</td>\n      <td>76.90</td>\n      <td>5.6</td>\n      <td>88.0</td>\n      <td>144.0</td>\n      <td>0.5</td>\n      <td>1.0</td>\n      <td>0.0</td>\n      <td>9</td>\n      <td>1</td>\n    </tr>\n  </tbody>\n</table>\n<p>17264 rows × 10 columns</p>\n</div>"
     },
     "execution_count": 9,
     "metadata": {},
     "output_type": "execute_result"
    }
   ],
   "source": [
    "dataset"
   ],
   "metadata": {
    "collapsed": false
   }
  },
  {
   "cell_type": "code",
   "execution_count": 10,
   "outputs": [
    {
     "name": "stderr",
     "output_type": "stream",
     "text": [
      "C:\\Users\\cloed\\AppData\\Local\\Temp\\ipykernel_14900\\3543613283.py:6: SettingWithCopyWarning: \n",
      "A value is trying to be set on a copy of a slice from a DataFrame\n",
      "\n",
      "See the caveats in the documentation: https://pandas.pydata.org/pandas-docs/stable/user_guide/indexing.html#returning-a-view-versus-a-copy\n",
      "  dataset['visibility'][index] = predicted_missing_df['visibility'][index]\n",
      "C:\\Users\\cloed\\AppData\\Local\\Temp\\ipykernel_14900\\3543613283.py:8: SettingWithCopyWarning: \n",
      "A value is trying to be set on a copy of a slice from a DataFrame\n",
      "\n",
      "See the caveats in the documentation: https://pandas.pydata.org/pandas-docs/stable/user_guide/indexing.html#returning-a-view-versus-a-copy\n",
      "  dataset['solarradiation'][index] = predicted_missing_df['solarradiation'][index]\n",
      "C:\\Users\\cloed\\AppData\\Local\\Temp\\ipykernel_14900\\3543613283.py:10: SettingWithCopyWarning: \n",
      "A value is trying to be set on a copy of a slice from a DataFrame\n",
      "\n",
      "See the caveats in the documentation: https://pandas.pydata.org/pandas-docs/stable/user_guide/indexing.html#returning-a-view-versus-a-copy\n",
      "  dataset['solarenergy'][index] = predicted_missing_df['solarenergy'][index]\n",
      "C:\\Users\\cloed\\AppData\\Local\\Temp\\ipykernel_14900\\3543613283.py:12: SettingWithCopyWarning: \n",
      "A value is trying to be set on a copy of a slice from a DataFrame\n",
      "\n",
      "See the caveats in the documentation: https://pandas.pydata.org/pandas-docs/stable/user_guide/indexing.html#returning-a-view-versus-a-copy\n",
      "  dataset['uvindex'][index] = predicted_missing_df['uvindex'][index]\n"
     ]
    }
   ],
   "source": [
    "# Replace the NaN values of the Dataset by the predicted value\n",
    "nas = dataset.isna()\n",
    "for index, row in nas.iterrows():\n",
    "    try:\n",
    "        if row['visibility']:\n",
    "            dataset['visibility'][index] = predicted_missing_df['visibility'][index]\n",
    "        if row['solarradiation']:\n",
    "            dataset['solarradiation'][index] = predicted_missing_df['solarradiation'][index]\n",
    "        if row['solarenergy']:\n",
    "            dataset['solarenergy'][index] = predicted_missing_df['solarenergy'][index]\n",
    "        if row['uvindex']:\n",
    "            dataset['uvindex'][index] = predicted_missing_df['uvindex'][index]\n",
    "    except KeyError:\n",
    "        continue\n",
    "dataset = dataset.dropna(subset=fields_to_keep)"
   ],
   "metadata": {
    "collapsed": false
   }
  },
  {
   "cell_type": "markdown",
   "source": [
    "# Train the DNN with the training_set"
   ],
   "metadata": {
    "collapsed": false
   }
  },
  {
   "cell_type": "code",
   "execution_count": 11,
   "outputs": [],
   "source": [
    "train_set = dataset.sample(frac=0.8, random_state=42)\n",
    "test_set = dataset.drop(train_set.index)"
   ],
   "metadata": {
    "collapsed": false
   }
  },
  {
   "cell_type": "code",
   "execution_count": 12,
   "outputs": [],
   "source": [
    "X_train = train_set.copy()\n",
    "X_test = test_set.copy()\n",
    "\n",
    "y_train = X_train.pop('solar_production')\n",
    "y_test = X_test.pop('solar_production')"
   ],
   "metadata": {
    "collapsed": false
   }
  },
  {
   "cell_type": "code",
   "execution_count": 13,
   "outputs": [
    {
     "data": {
      "text/plain": "            temp  humidity  visibility  cloudcover  solarradiation  \\\n16773  11.444444     79.50       6.200        52.7            7.00   \n3684   17.000000     68.97      14.260         0.0          202.31   \n2374   18.944444     59.57      12.400         0.0          175.60   \n8984   15.944444     83.10      19.220         0.0          175.60   \n3037   21.333333     69.35      21.700         0.0          898.00   \n...          ...       ...         ...         ...             ...   \n1731   19.000000     60.37      19.871         0.0          121.46   \n10146  14.888889     80.00       5.200        98.0           12.19   \n9188   21.944444     63.53      15.500         7.9           62.89   \n8397   19.666667     68.91      19.220         0.0          175.60   \n9689   19.500000     75.10       6.200        50.0          408.00   \n\n       solarenergy  uvindex  month  hour  \n16773        0.000     0.00      9     7  \n3684         0.732     2.01      8    21  \n2374         0.660     1.60      4     7  \n8984         0.660     1.60      8     6  \n3037         3.200     9.00      6    15  \n...            ...      ...    ...   ...  \n1731         0.470     1.06      2     2  \n10146        0.034     0.00      1     7  \n9188         0.267     0.48      8    23  \n8397         0.660     1.60      8     5  \n9689         1.500     4.00      8    17  \n\n[13590 rows x 9 columns]",
      "text/html": "<div>\n<style scoped>\n    .dataframe tbody tr th:only-of-type {\n        vertical-align: middle;\n    }\n\n    .dataframe tbody tr th {\n        vertical-align: top;\n    }\n\n    .dataframe thead th {\n        text-align: right;\n    }\n</style>\n<table border=\"1\" class=\"dataframe\">\n  <thead>\n    <tr style=\"text-align: right;\">\n      <th></th>\n      <th>temp</th>\n      <th>humidity</th>\n      <th>visibility</th>\n      <th>cloudcover</th>\n      <th>solarradiation</th>\n      <th>solarenergy</th>\n      <th>uvindex</th>\n      <th>month</th>\n      <th>hour</th>\n    </tr>\n  </thead>\n  <tbody>\n    <tr>\n      <th>16773</th>\n      <td>11.444444</td>\n      <td>79.50</td>\n      <td>6.200</td>\n      <td>52.7</td>\n      <td>7.00</td>\n      <td>0.000</td>\n      <td>0.00</td>\n      <td>9</td>\n      <td>7</td>\n    </tr>\n    <tr>\n      <th>3684</th>\n      <td>17.000000</td>\n      <td>68.97</td>\n      <td>14.260</td>\n      <td>0.0</td>\n      <td>202.31</td>\n      <td>0.732</td>\n      <td>2.01</td>\n      <td>8</td>\n      <td>21</td>\n    </tr>\n    <tr>\n      <th>2374</th>\n      <td>18.944444</td>\n      <td>59.57</td>\n      <td>12.400</td>\n      <td>0.0</td>\n      <td>175.60</td>\n      <td>0.660</td>\n      <td>1.60</td>\n      <td>4</td>\n      <td>7</td>\n    </tr>\n    <tr>\n      <th>8984</th>\n      <td>15.944444</td>\n      <td>83.10</td>\n      <td>19.220</td>\n      <td>0.0</td>\n      <td>175.60</td>\n      <td>0.660</td>\n      <td>1.60</td>\n      <td>8</td>\n      <td>6</td>\n    </tr>\n    <tr>\n      <th>3037</th>\n      <td>21.333333</td>\n      <td>69.35</td>\n      <td>21.700</td>\n      <td>0.0</td>\n      <td>898.00</td>\n      <td>3.200</td>\n      <td>9.00</td>\n      <td>6</td>\n      <td>15</td>\n    </tr>\n    <tr>\n      <th>...</th>\n      <td>...</td>\n      <td>...</td>\n      <td>...</td>\n      <td>...</td>\n      <td>...</td>\n      <td>...</td>\n      <td>...</td>\n      <td>...</td>\n      <td>...</td>\n    </tr>\n    <tr>\n      <th>1731</th>\n      <td>19.000000</td>\n      <td>60.37</td>\n      <td>19.871</td>\n      <td>0.0</td>\n      <td>121.46</td>\n      <td>0.470</td>\n      <td>1.06</td>\n      <td>2</td>\n      <td>2</td>\n    </tr>\n    <tr>\n      <th>10146</th>\n      <td>14.888889</td>\n      <td>80.00</td>\n      <td>5.200</td>\n      <td>98.0</td>\n      <td>12.19</td>\n      <td>0.034</td>\n      <td>0.00</td>\n      <td>1</td>\n      <td>7</td>\n    </tr>\n    <tr>\n      <th>9188</th>\n      <td>21.944444</td>\n      <td>63.53</td>\n      <td>15.500</td>\n      <td>7.9</td>\n      <td>62.89</td>\n      <td>0.267</td>\n      <td>0.48</td>\n      <td>8</td>\n      <td>23</td>\n    </tr>\n    <tr>\n      <th>8397</th>\n      <td>19.666667</td>\n      <td>68.91</td>\n      <td>19.220</td>\n      <td>0.0</td>\n      <td>175.60</td>\n      <td>0.660</td>\n      <td>1.60</td>\n      <td>8</td>\n      <td>5</td>\n    </tr>\n    <tr>\n      <th>9689</th>\n      <td>19.500000</td>\n      <td>75.10</td>\n      <td>6.200</td>\n      <td>50.0</td>\n      <td>408.00</td>\n      <td>1.500</td>\n      <td>4.00</td>\n      <td>8</td>\n      <td>17</td>\n    </tr>\n  </tbody>\n</table>\n<p>13590 rows × 9 columns</p>\n</div>"
     },
     "execution_count": 13,
     "metadata": {},
     "output_type": "execute_result"
    }
   ],
   "source": [
    "X_train"
   ],
   "metadata": {
    "collapsed": false
   }
  },
  {
   "cell_type": "code",
   "execution_count": 14,
   "outputs": [],
   "source": [
    "model = mlp = MLPRegressor(\n",
    "    hidden_layer_sizes=(350, 350, 350),\n",
    "    activation='tanh',\n",
    "    solver='adam',\n",
    "    alpha=1e-5,\n",
    "    learning_rate_init=0.001,\n",
    "    max_iter=500\n",
    ")"
   ],
   "metadata": {
    "collapsed": false
   }
  },
  {
   "cell_type": "code",
   "execution_count": 15,
   "outputs": [
    {
     "data": {
      "text/plain": "MLPRegressor(activation='tanh', alpha=1e-05, hidden_layer_sizes=(350, 350, 350),\n             max_iter=500)",
      "text/html": "<style>#sk-container-id-1 {color: black;background-color: white;}#sk-container-id-1 pre{padding: 0;}#sk-container-id-1 div.sk-toggleable {background-color: white;}#sk-container-id-1 label.sk-toggleable__label {cursor: pointer;display: block;width: 100%;margin-bottom: 0;padding: 0.3em;box-sizing: border-box;text-align: center;}#sk-container-id-1 label.sk-toggleable__label-arrow:before {content: \"▸\";float: left;margin-right: 0.25em;color: #696969;}#sk-container-id-1 label.sk-toggleable__label-arrow:hover:before {color: black;}#sk-container-id-1 div.sk-estimator:hover label.sk-toggleable__label-arrow:before {color: black;}#sk-container-id-1 div.sk-toggleable__content {max-height: 0;max-width: 0;overflow: hidden;text-align: left;background-color: #f0f8ff;}#sk-container-id-1 div.sk-toggleable__content pre {margin: 0.2em;color: black;border-radius: 0.25em;background-color: #f0f8ff;}#sk-container-id-1 input.sk-toggleable__control:checked~div.sk-toggleable__content {max-height: 200px;max-width: 100%;overflow: auto;}#sk-container-id-1 input.sk-toggleable__control:checked~label.sk-toggleable__label-arrow:before {content: \"▾\";}#sk-container-id-1 div.sk-estimator input.sk-toggleable__control:checked~label.sk-toggleable__label {background-color: #d4ebff;}#sk-container-id-1 div.sk-label input.sk-toggleable__control:checked~label.sk-toggleable__label {background-color: #d4ebff;}#sk-container-id-1 input.sk-hidden--visually {border: 0;clip: rect(1px 1px 1px 1px);clip: rect(1px, 1px, 1px, 1px);height: 1px;margin: -1px;overflow: hidden;padding: 0;position: absolute;width: 1px;}#sk-container-id-1 div.sk-estimator {font-family: monospace;background-color: #f0f8ff;border: 1px dotted black;border-radius: 0.25em;box-sizing: border-box;margin-bottom: 0.5em;}#sk-container-id-1 div.sk-estimator:hover {background-color: #d4ebff;}#sk-container-id-1 div.sk-parallel-item::after {content: \"\";width: 100%;border-bottom: 1px solid gray;flex-grow: 1;}#sk-container-id-1 div.sk-label:hover label.sk-toggleable__label {background-color: #d4ebff;}#sk-container-id-1 div.sk-serial::before {content: \"\";position: absolute;border-left: 1px solid gray;box-sizing: border-box;top: 0;bottom: 0;left: 50%;z-index: 0;}#sk-container-id-1 div.sk-serial {display: flex;flex-direction: column;align-items: center;background-color: white;padding-right: 0.2em;padding-left: 0.2em;position: relative;}#sk-container-id-1 div.sk-item {position: relative;z-index: 1;}#sk-container-id-1 div.sk-parallel {display: flex;align-items: stretch;justify-content: center;background-color: white;position: relative;}#sk-container-id-1 div.sk-item::before, #sk-container-id-1 div.sk-parallel-item::before {content: \"\";position: absolute;border-left: 1px solid gray;box-sizing: border-box;top: 0;bottom: 0;left: 50%;z-index: -1;}#sk-container-id-1 div.sk-parallel-item {display: flex;flex-direction: column;z-index: 1;position: relative;background-color: white;}#sk-container-id-1 div.sk-parallel-item:first-child::after {align-self: flex-end;width: 50%;}#sk-container-id-1 div.sk-parallel-item:last-child::after {align-self: flex-start;width: 50%;}#sk-container-id-1 div.sk-parallel-item:only-child::after {width: 0;}#sk-container-id-1 div.sk-dashed-wrapped {border: 1px dashed gray;margin: 0 0.4em 0.5em 0.4em;box-sizing: border-box;padding-bottom: 0.4em;background-color: white;}#sk-container-id-1 div.sk-label label {font-family: monospace;font-weight: bold;display: inline-block;line-height: 1.2em;}#sk-container-id-1 div.sk-label-container {text-align: center;}#sk-container-id-1 div.sk-container {/* jupyter's `normalize.less` sets `[hidden] { display: none; }` but bootstrap.min.css set `[hidden] { display: none !important; }` so we also need the `!important` here to be able to override the default hidden behavior on the sphinx rendered scikit-learn.org. See: https://github.com/scikit-learn/scikit-learn/issues/21755 */display: inline-block !important;position: relative;}#sk-container-id-1 div.sk-text-repr-fallback {display: none;}</style><div id=\"sk-container-id-1\" class=\"sk-top-container\"><div class=\"sk-text-repr-fallback\"><pre>MLPRegressor(activation=&#x27;tanh&#x27;, alpha=1e-05, hidden_layer_sizes=(350, 350, 350),\n             max_iter=500)</pre><b>In a Jupyter environment, please rerun this cell to show the HTML representation or trust the notebook. <br />On GitHub, the HTML representation is unable to render, please try loading this page with nbviewer.org.</b></div><div class=\"sk-container\" hidden><div class=\"sk-item\"><div class=\"sk-estimator sk-toggleable\"><input class=\"sk-toggleable__control sk-hidden--visually\" id=\"sk-estimator-id-1\" type=\"checkbox\" checked><label for=\"sk-estimator-id-1\" class=\"sk-toggleable__label sk-toggleable__label-arrow\">MLPRegressor</label><div class=\"sk-toggleable__content\"><pre>MLPRegressor(activation=&#x27;tanh&#x27;, alpha=1e-05, hidden_layer_sizes=(350, 350, 350),\n             max_iter=500)</pre></div></div></div></div></div>"
     },
     "execution_count": 15,
     "metadata": {},
     "output_type": "execute_result"
    }
   ],
   "source": [
    "model.fit(X_train, y_train)"
   ],
   "metadata": {
    "collapsed": false
   }
  },
  {
   "cell_type": "code",
   "execution_count": 16,
   "outputs": [],
   "source": [
    "# init Series used for r2 evaluation\n",
    "res = pd.Series(dtype='float64')\n",
    "Y_true_tot = pd.Series(dtype='float64')\n",
    "Y_pred_tot = pd.Series(dtype='float64')"
   ],
   "metadata": {
    "collapsed": false
   }
  },
  {
   "cell_type": "code",
   "execution_count": 17,
   "outputs": [],
   "source": [
    "Y_guess = model.predict(X_test)\n",
    "\n",
    "Y_true_tot = pd.concat((Y_true_tot, y_test))\n",
    "Y_pred_tot = pd.concat((Y_pred_tot, pd.DataFrame(Y_guess)))\n",
    "res = pd.concat((res, abs(y_test - Y_guess)))"
   ],
   "metadata": {
    "collapsed": false
   }
  },
  {
   "cell_type": "code",
   "execution_count": 18,
   "outputs": [
    {
     "data": {
      "text/plain": "0.9224614656562934"
     },
     "execution_count": 18,
     "metadata": {},
     "output_type": "execute_result"
    }
   ],
   "source": [
    "r2_score(Y_true_tot, Y_pred_tot)"
   ],
   "metadata": {
    "collapsed": false
   }
  },
  {
   "cell_type": "code",
   "execution_count": 446,
   "outputs": [],
   "source": [
    "# Only execute whe we got a good result\n",
    "pickle.dump(model, open(\"modelX-score.pickle\", \"wb\"))"
   ],
   "metadata": {
    "collapsed": false
   }
  },
  {
   "cell_type": "markdown",
   "source": [
    "# Now load the test_set and write the predictions to a csv"
   ],
   "metadata": {
    "collapsed": false
   }
  },
  {
   "cell_type": "code",
   "execution_count": 19,
   "outputs": [
    {
     "data": {
      "text/plain": "      Unnamed: 0                 Date      temp  humidity  precip  snow  \\\n0              0  2022-01-10 02:00:00  8.833333     90.81     0.0   0.0   \n1              1  2022-01-10 02:05:00  8.833333     90.81     0.0   0.0   \n2              2  2022-01-10 02:10:00  8.833333     90.81     0.0   0.0   \n3              3  2022-01-10 02:15:00  8.833333     90.81     0.0   0.0   \n4              4  2022-01-10 02:20:00  8.833333     90.81     0.0   0.0   \n...          ...                  ...       ...       ...     ...   ...   \n2299        2299  2022-10-10 01:35:00       NaN       NaN     NaN   NaN   \n2300        2300  2022-10-10 01:40:00       NaN       NaN     NaN   NaN   \n2301        2301  2022-10-10 01:45:00       NaN       NaN     NaN   NaN   \n2302        2302  2022-10-10 01:50:00       NaN       NaN     NaN   NaN   \n2303        2303  2022-10-10 01:55:00       NaN       NaN     NaN   NaN   \n\n      snowdepth  windspeed  winddir  visibility  cloudcover  solarradiation  \\\n0           0.0        2.3    200.0         6.2        50.0             NaN   \n1           0.0        2.3    200.0         6.2        50.0             NaN   \n2           0.0        2.3    200.0         6.2        50.0             NaN   \n3           0.0        2.3    200.0         6.2        50.0             NaN   \n4           0.0        2.3    200.0         6.2        50.0             NaN   \n...         ...        ...      ...         ...         ...             ...   \n2299        NaN        NaN      NaN         NaN         NaN             NaN   \n2300        NaN        NaN      NaN         NaN         NaN             NaN   \n2301        NaN        NaN      NaN         NaN         NaN             NaN   \n2302        NaN        NaN      NaN         NaN         NaN             NaN   \n2303        NaN        NaN      NaN         NaN         NaN             NaN   \n\n      solarenergy  uvindex        conditions  \n0             NaN      NaN  Partially cloudy  \n1             NaN      NaN  Partially cloudy  \n2             NaN      NaN  Partially cloudy  \n3             NaN      NaN  Partially cloudy  \n4             NaN      NaN  Partially cloudy  \n...           ...      ...               ...  \n2299          NaN      NaN               NaN  \n2300          NaN      NaN               NaN  \n2301          NaN      NaN               NaN  \n2302          NaN      NaN               NaN  \n2303          NaN      NaN               NaN  \n\n[2304 rows x 15 columns]",
      "text/html": "<div>\n<style scoped>\n    .dataframe tbody tr th:only-of-type {\n        vertical-align: middle;\n    }\n\n    .dataframe tbody tr th {\n        vertical-align: top;\n    }\n\n    .dataframe thead th {\n        text-align: right;\n    }\n</style>\n<table border=\"1\" class=\"dataframe\">\n  <thead>\n    <tr style=\"text-align: right;\">\n      <th></th>\n      <th>Unnamed: 0</th>\n      <th>Date</th>\n      <th>temp</th>\n      <th>humidity</th>\n      <th>precip</th>\n      <th>snow</th>\n      <th>snowdepth</th>\n      <th>windspeed</th>\n      <th>winddir</th>\n      <th>visibility</th>\n      <th>cloudcover</th>\n      <th>solarradiation</th>\n      <th>solarenergy</th>\n      <th>uvindex</th>\n      <th>conditions</th>\n    </tr>\n  </thead>\n  <tbody>\n    <tr>\n      <th>0</th>\n      <td>0</td>\n      <td>2022-01-10 02:00:00</td>\n      <td>8.833333</td>\n      <td>90.81</td>\n      <td>0.0</td>\n      <td>0.0</td>\n      <td>0.0</td>\n      <td>2.3</td>\n      <td>200.0</td>\n      <td>6.2</td>\n      <td>50.0</td>\n      <td>NaN</td>\n      <td>NaN</td>\n      <td>NaN</td>\n      <td>Partially cloudy</td>\n    </tr>\n    <tr>\n      <th>1</th>\n      <td>1</td>\n      <td>2022-01-10 02:05:00</td>\n      <td>8.833333</td>\n      <td>90.81</td>\n      <td>0.0</td>\n      <td>0.0</td>\n      <td>0.0</td>\n      <td>2.3</td>\n      <td>200.0</td>\n      <td>6.2</td>\n      <td>50.0</td>\n      <td>NaN</td>\n      <td>NaN</td>\n      <td>NaN</td>\n      <td>Partially cloudy</td>\n    </tr>\n    <tr>\n      <th>2</th>\n      <td>2</td>\n      <td>2022-01-10 02:10:00</td>\n      <td>8.833333</td>\n      <td>90.81</td>\n      <td>0.0</td>\n      <td>0.0</td>\n      <td>0.0</td>\n      <td>2.3</td>\n      <td>200.0</td>\n      <td>6.2</td>\n      <td>50.0</td>\n      <td>NaN</td>\n      <td>NaN</td>\n      <td>NaN</td>\n      <td>Partially cloudy</td>\n    </tr>\n    <tr>\n      <th>3</th>\n      <td>3</td>\n      <td>2022-01-10 02:15:00</td>\n      <td>8.833333</td>\n      <td>90.81</td>\n      <td>0.0</td>\n      <td>0.0</td>\n      <td>0.0</td>\n      <td>2.3</td>\n      <td>200.0</td>\n      <td>6.2</td>\n      <td>50.0</td>\n      <td>NaN</td>\n      <td>NaN</td>\n      <td>NaN</td>\n      <td>Partially cloudy</td>\n    </tr>\n    <tr>\n      <th>4</th>\n      <td>4</td>\n      <td>2022-01-10 02:20:00</td>\n      <td>8.833333</td>\n      <td>90.81</td>\n      <td>0.0</td>\n      <td>0.0</td>\n      <td>0.0</td>\n      <td>2.3</td>\n      <td>200.0</td>\n      <td>6.2</td>\n      <td>50.0</td>\n      <td>NaN</td>\n      <td>NaN</td>\n      <td>NaN</td>\n      <td>Partially cloudy</td>\n    </tr>\n    <tr>\n      <th>...</th>\n      <td>...</td>\n      <td>...</td>\n      <td>...</td>\n      <td>...</td>\n      <td>...</td>\n      <td>...</td>\n      <td>...</td>\n      <td>...</td>\n      <td>...</td>\n      <td>...</td>\n      <td>...</td>\n      <td>...</td>\n      <td>...</td>\n      <td>...</td>\n      <td>...</td>\n    </tr>\n    <tr>\n      <th>2299</th>\n      <td>2299</td>\n      <td>2022-10-10 01:35:00</td>\n      <td>NaN</td>\n      <td>NaN</td>\n      <td>NaN</td>\n      <td>NaN</td>\n      <td>NaN</td>\n      <td>NaN</td>\n      <td>NaN</td>\n      <td>NaN</td>\n      <td>NaN</td>\n      <td>NaN</td>\n      <td>NaN</td>\n      <td>NaN</td>\n      <td>NaN</td>\n    </tr>\n    <tr>\n      <th>2300</th>\n      <td>2300</td>\n      <td>2022-10-10 01:40:00</td>\n      <td>NaN</td>\n      <td>NaN</td>\n      <td>NaN</td>\n      <td>NaN</td>\n      <td>NaN</td>\n      <td>NaN</td>\n      <td>NaN</td>\n      <td>NaN</td>\n      <td>NaN</td>\n      <td>NaN</td>\n      <td>NaN</td>\n      <td>NaN</td>\n      <td>NaN</td>\n    </tr>\n    <tr>\n      <th>2301</th>\n      <td>2301</td>\n      <td>2022-10-10 01:45:00</td>\n      <td>NaN</td>\n      <td>NaN</td>\n      <td>NaN</td>\n      <td>NaN</td>\n      <td>NaN</td>\n      <td>NaN</td>\n      <td>NaN</td>\n      <td>NaN</td>\n      <td>NaN</td>\n      <td>NaN</td>\n      <td>NaN</td>\n      <td>NaN</td>\n      <td>NaN</td>\n    </tr>\n    <tr>\n      <th>2302</th>\n      <td>2302</td>\n      <td>2022-10-10 01:50:00</td>\n      <td>NaN</td>\n      <td>NaN</td>\n      <td>NaN</td>\n      <td>NaN</td>\n      <td>NaN</td>\n      <td>NaN</td>\n      <td>NaN</td>\n      <td>NaN</td>\n      <td>NaN</td>\n      <td>NaN</td>\n      <td>NaN</td>\n      <td>NaN</td>\n      <td>NaN</td>\n    </tr>\n    <tr>\n      <th>2303</th>\n      <td>2303</td>\n      <td>2022-10-10 01:55:00</td>\n      <td>NaN</td>\n      <td>NaN</td>\n      <td>NaN</td>\n      <td>NaN</td>\n      <td>NaN</td>\n      <td>NaN</td>\n      <td>NaN</td>\n      <td>NaN</td>\n      <td>NaN</td>\n      <td>NaN</td>\n      <td>NaN</td>\n      <td>NaN</td>\n      <td>NaN</td>\n    </tr>\n  </tbody>\n</table>\n<p>2304 rows × 15 columns</p>\n</div>"
     },
     "execution_count": 19,
     "metadata": {},
     "output_type": "execute_result"
    }
   ],
   "source": [
    "# Load testset\n",
    "test_set = pd.read_csv(\"test_students.csv\")\n",
    "test_set"
   ],
   "metadata": {
    "collapsed": false
   }
  },
  {
   "cell_type": "code",
   "execution_count": 20,
   "outputs": [
    {
     "data": {
      "text/plain": "           temp   humidity  visibility  cloudcover  solarradiation  \\\n0      8.833333  90.810000    6.200000   50.000000      294.382022   \n1      8.833333  90.810000    6.200000   50.000000      294.382022   \n2      8.833333  90.810000    6.200000   50.000000      294.382022   \n3      8.833333  90.810000    6.200000   50.000000      294.382022   \n4      8.833333  90.810000    6.200000   50.000000      294.382022   \n...         ...        ...         ...         ...             ...   \n2299  15.100292  73.682421    6.089535   53.099474      294.382022   \n2300  15.100292  73.682421    6.089535   53.099474      294.382022   \n2301  15.100292  73.682421    6.089535   53.099474      294.382022   \n2302  15.100292  73.682421    6.089535   53.099474      294.382022   \n2303  15.100292  73.682421    6.089535   53.099474      294.382022   \n\n      solarenergy   uvindex  month  hour  \n0        1.060674  2.842697      1     2  \n1        1.060674  2.842697      1     2  \n2        1.060674  2.842697      1     2  \n3        1.060674  2.842697      1     2  \n4        1.060674  2.842697      1     2  \n...           ...       ...    ...   ...  \n2299     1.060674  2.842697     10     1  \n2300     1.060674  2.842697     10     1  \n2301     1.060674  2.842697     10     1  \n2302     1.060674  2.842697     10     1  \n2303     1.060674  2.842697     10     1  \n\n[2304 rows x 9 columns]",
      "text/html": "<div>\n<style scoped>\n    .dataframe tbody tr th:only-of-type {\n        vertical-align: middle;\n    }\n\n    .dataframe tbody tr th {\n        vertical-align: top;\n    }\n\n    .dataframe thead th {\n        text-align: right;\n    }\n</style>\n<table border=\"1\" class=\"dataframe\">\n  <thead>\n    <tr style=\"text-align: right;\">\n      <th></th>\n      <th>temp</th>\n      <th>humidity</th>\n      <th>visibility</th>\n      <th>cloudcover</th>\n      <th>solarradiation</th>\n      <th>solarenergy</th>\n      <th>uvindex</th>\n      <th>month</th>\n      <th>hour</th>\n    </tr>\n  </thead>\n  <tbody>\n    <tr>\n      <th>0</th>\n      <td>8.833333</td>\n      <td>90.810000</td>\n      <td>6.200000</td>\n      <td>50.000000</td>\n      <td>294.382022</td>\n      <td>1.060674</td>\n      <td>2.842697</td>\n      <td>1</td>\n      <td>2</td>\n    </tr>\n    <tr>\n      <th>1</th>\n      <td>8.833333</td>\n      <td>90.810000</td>\n      <td>6.200000</td>\n      <td>50.000000</td>\n      <td>294.382022</td>\n      <td>1.060674</td>\n      <td>2.842697</td>\n      <td>1</td>\n      <td>2</td>\n    </tr>\n    <tr>\n      <th>2</th>\n      <td>8.833333</td>\n      <td>90.810000</td>\n      <td>6.200000</td>\n      <td>50.000000</td>\n      <td>294.382022</td>\n      <td>1.060674</td>\n      <td>2.842697</td>\n      <td>1</td>\n      <td>2</td>\n    </tr>\n    <tr>\n      <th>3</th>\n      <td>8.833333</td>\n      <td>90.810000</td>\n      <td>6.200000</td>\n      <td>50.000000</td>\n      <td>294.382022</td>\n      <td>1.060674</td>\n      <td>2.842697</td>\n      <td>1</td>\n      <td>2</td>\n    </tr>\n    <tr>\n      <th>4</th>\n      <td>8.833333</td>\n      <td>90.810000</td>\n      <td>6.200000</td>\n      <td>50.000000</td>\n      <td>294.382022</td>\n      <td>1.060674</td>\n      <td>2.842697</td>\n      <td>1</td>\n      <td>2</td>\n    </tr>\n    <tr>\n      <th>...</th>\n      <td>...</td>\n      <td>...</td>\n      <td>...</td>\n      <td>...</td>\n      <td>...</td>\n      <td>...</td>\n      <td>...</td>\n      <td>...</td>\n      <td>...</td>\n    </tr>\n    <tr>\n      <th>2299</th>\n      <td>15.100292</td>\n      <td>73.682421</td>\n      <td>6.089535</td>\n      <td>53.099474</td>\n      <td>294.382022</td>\n      <td>1.060674</td>\n      <td>2.842697</td>\n      <td>10</td>\n      <td>1</td>\n    </tr>\n    <tr>\n      <th>2300</th>\n      <td>15.100292</td>\n      <td>73.682421</td>\n      <td>6.089535</td>\n      <td>53.099474</td>\n      <td>294.382022</td>\n      <td>1.060674</td>\n      <td>2.842697</td>\n      <td>10</td>\n      <td>1</td>\n    </tr>\n    <tr>\n      <th>2301</th>\n      <td>15.100292</td>\n      <td>73.682421</td>\n      <td>6.089535</td>\n      <td>53.099474</td>\n      <td>294.382022</td>\n      <td>1.060674</td>\n      <td>2.842697</td>\n      <td>10</td>\n      <td>1</td>\n    </tr>\n    <tr>\n      <th>2302</th>\n      <td>15.100292</td>\n      <td>73.682421</td>\n      <td>6.089535</td>\n      <td>53.099474</td>\n      <td>294.382022</td>\n      <td>1.060674</td>\n      <td>2.842697</td>\n      <td>10</td>\n      <td>1</td>\n    </tr>\n    <tr>\n      <th>2303</th>\n      <td>15.100292</td>\n      <td>73.682421</td>\n      <td>6.089535</td>\n      <td>53.099474</td>\n      <td>294.382022</td>\n      <td>1.060674</td>\n      <td>2.842697</td>\n      <td>10</td>\n      <td>1</td>\n    </tr>\n  </tbody>\n</table>\n<p>2304 rows × 9 columns</p>\n</div>"
     },
     "execution_count": 20,
     "metadata": {},
     "output_type": "execute_result"
    }
   ],
   "source": [
    "dates = test_set['Date']\n",
    "timestamps = pd.to_datetime(dates)\n",
    "\n",
    "hours = timestamps.dt.hour\n",
    "months = timestamps.dt.month\n",
    "\n",
    "id_col = test_set['Unnamed: 0']\n",
    "\n",
    "test_set = test_set.drop(fields_to_delete, axis=1)\n",
    "for col in test_set.columns:\n",
    "    if col == 'Date':\n",
    "        continue\n",
    "    test_set[col].fillna(test_set[col].mean(), inplace=True)\n",
    "test_set['month'] = months\n",
    "test_set['hour'] = hours\n",
    "\n",
    "X_test = test_set.copy()\n",
    "X_test"
   ],
   "metadata": {
    "collapsed": false
   }
  },
  {
   "cell_type": "code",
   "execution_count": 21,
   "outputs": [],
   "source": [
    "# Load saved model if necessary, else comment this block\n",
    "model = pickle.load(open(\"model1-952.pickle\", \"rb\"))"
   ],
   "metadata": {
    "collapsed": false
   }
  },
  {
   "cell_type": "code",
   "execution_count": 22,
   "outputs": [
    {
     "data": {
      "text/plain": "array([0.12427078, 0.12427078, 0.12427078, ..., 0.0107426 , 0.0107426 ,\n       0.0107426 ])"
     },
     "execution_count": 22,
     "metadata": {},
     "output_type": "execute_result"
    }
   ],
   "source": [
    "predicted = model.predict(X_test)\n",
    "predicted"
   ],
   "metadata": {
    "collapsed": false
   }
  },
  {
   "cell_type": "code",
   "execution_count": 23,
   "outputs": [
    {
     "data": {
      "text/plain": "array([0.12427078, 0.12427078, 0.12427078, ..., 0.0107426 , 0.0107426 ,\n       0.0107426 ])"
     },
     "execution_count": 23,
     "metadata": {},
     "output_type": "execute_result"
    }
   ],
   "source": [
    "# Set values below 0 to 0 (it predicts sometimes values really close to 0 but negative like -0.006 and so on)\n",
    "for i in range(len(predicted)):\n",
    "    if predicted[i] < 0:\n",
    "        predicted[i] = 0.0\n",
    "predicted"
   ],
   "metadata": {
    "collapsed": false
   }
  },
  {
   "cell_type": "code",
   "execution_count": 24,
   "outputs": [],
   "source": [
    "df = pd.DataFrame({'id': id_col, 'predicted': predicted})"
   ],
   "metadata": {
    "collapsed": false
   }
  },
  {
   "cell_type": "code",
   "execution_count": 25,
   "outputs": [],
   "source": [
    "df.to_csv(\"V2_DEFFHERREAUX.csv\", index=False)"
   ],
   "metadata": {
    "collapsed": false
   }
  },
  {
   "cell_type": "code",
   "execution_count": null,
   "outputs": [],
   "source": [],
   "metadata": {
    "collapsed": false
   }
  }
 ],
 "metadata": {
  "kernelspec": {
   "display_name": "Python 3",
   "language": "python",
   "name": "python3"
  },
  "language_info": {
   "codemirror_mode": {
    "name": "ipython",
    "version": 2
   },
   "file_extension": ".py",
   "mimetype": "text/x-python",
   "name": "python",
   "nbconvert_exporter": "python",
   "pygments_lexer": "ipython2",
   "version": "2.7.6"
  }
 },
 "nbformat": 4,
 "nbformat_minor": 0
}
