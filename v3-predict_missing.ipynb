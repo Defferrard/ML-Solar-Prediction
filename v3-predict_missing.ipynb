{
 "cells": [
  {
   "cell_type": "code",
   "execution_count": 135,
   "outputs": [],
   "source": [
    "from sklearn.linear_model import LinearRegression\n",
    "from sklearn.ensemble import RandomForestRegressor\n",
    "from sklearn.neural_network import MLPRegressor\n",
    "\n",
    "import pandas as pd\n",
    "\n",
    "import pickle"
   ],
   "metadata": {
    "collapsed": false
   }
  },
  {
   "cell_type": "code",
   "execution_count": 136,
   "outputs": [],
   "source": [
    "dataset = pd.read_csv(\"training.csv\")"
   ],
   "metadata": {
    "collapsed": false
   }
  },
  {
   "cell_type": "code",
   "execution_count": 137,
   "outputs": [],
   "source": [
    "fields_to_delete = ['Unnamed: 0', 'Date', 'precip', 'snow', 'snowdepth', 'windspeed', 'winddir', 'conditions', 'solar_production']\n",
    "fields_to_keep = ['temp', 'humidity', 'visibility', 'cloudcover', 'solarradiation', 'solarenergy', 'uvindex']"
   ],
   "metadata": {
    "collapsed": false
   }
  },
  {
   "cell_type": "code",
   "execution_count": 138,
   "outputs": [
    {
     "data": {
      "text/plain": "            temp  humidity  visibility  cloudcover  solarradiation  \\\n0      21.277778     51.52        21.7         9.5            33.0   \n1      21.277778     51.52        21.7         9.5            33.0   \n2      21.277778     51.52        21.7         9.5            33.0   \n3      21.277778     51.52        21.7         9.5            33.0   \n4      21.277778     51.52        21.7         9.5            33.0   \n...          ...       ...         ...         ...             ...   \n17851  10.888889     76.90         5.6        88.0           144.0   \n17852  10.888889     76.90         5.6        88.0           144.0   \n17853  10.888889     76.90         5.6        88.0           144.0   \n17854  10.888889     76.90         5.6        88.0           144.0   \n17855  10.888889     76.90         5.6        88.0           144.0   \n\n       solarenergy  uvindex  hour  month  \n0              0.1      0.0     2      7  \n1              0.1      0.0     2      7  \n2              0.1      0.0     2      7  \n3              0.1      0.0     2      7  \n4              0.1      0.0     2      7  \n...            ...      ...   ...    ...  \n17851          0.5      1.0     1      9  \n17852          0.5      1.0     1      9  \n17853          0.5      1.0     1      9  \n17854          0.5      1.0     1      9  \n17855          0.5      1.0     1      9  \n\n[5376 rows x 9 columns]",
      "text/html": "<div>\n<style scoped>\n    .dataframe tbody tr th:only-of-type {\n        vertical-align: middle;\n    }\n\n    .dataframe tbody tr th {\n        vertical-align: top;\n    }\n\n    .dataframe thead th {\n        text-align: right;\n    }\n</style>\n<table border=\"1\" class=\"dataframe\">\n  <thead>\n    <tr style=\"text-align: right;\">\n      <th></th>\n      <th>temp</th>\n      <th>humidity</th>\n      <th>visibility</th>\n      <th>cloudcover</th>\n      <th>solarradiation</th>\n      <th>solarenergy</th>\n      <th>uvindex</th>\n      <th>hour</th>\n      <th>month</th>\n    </tr>\n  </thead>\n  <tbody>\n    <tr>\n      <th>0</th>\n      <td>21.277778</td>\n      <td>51.52</td>\n      <td>21.7</td>\n      <td>9.5</td>\n      <td>33.0</td>\n      <td>0.1</td>\n      <td>0.0</td>\n      <td>2</td>\n      <td>7</td>\n    </tr>\n    <tr>\n      <th>1</th>\n      <td>21.277778</td>\n      <td>51.52</td>\n      <td>21.7</td>\n      <td>9.5</td>\n      <td>33.0</td>\n      <td>0.1</td>\n      <td>0.0</td>\n      <td>2</td>\n      <td>7</td>\n    </tr>\n    <tr>\n      <th>2</th>\n      <td>21.277778</td>\n      <td>51.52</td>\n      <td>21.7</td>\n      <td>9.5</td>\n      <td>33.0</td>\n      <td>0.1</td>\n      <td>0.0</td>\n      <td>2</td>\n      <td>7</td>\n    </tr>\n    <tr>\n      <th>3</th>\n      <td>21.277778</td>\n      <td>51.52</td>\n      <td>21.7</td>\n      <td>9.5</td>\n      <td>33.0</td>\n      <td>0.1</td>\n      <td>0.0</td>\n      <td>2</td>\n      <td>7</td>\n    </tr>\n    <tr>\n      <th>4</th>\n      <td>21.277778</td>\n      <td>51.52</td>\n      <td>21.7</td>\n      <td>9.5</td>\n      <td>33.0</td>\n      <td>0.1</td>\n      <td>0.0</td>\n      <td>2</td>\n      <td>7</td>\n    </tr>\n    <tr>\n      <th>...</th>\n      <td>...</td>\n      <td>...</td>\n      <td>...</td>\n      <td>...</td>\n      <td>...</td>\n      <td>...</td>\n      <td>...</td>\n      <td>...</td>\n      <td>...</td>\n    </tr>\n    <tr>\n      <th>17851</th>\n      <td>10.888889</td>\n      <td>76.90</td>\n      <td>5.6</td>\n      <td>88.0</td>\n      <td>144.0</td>\n      <td>0.5</td>\n      <td>1.0</td>\n      <td>1</td>\n      <td>9</td>\n    </tr>\n    <tr>\n      <th>17852</th>\n      <td>10.888889</td>\n      <td>76.90</td>\n      <td>5.6</td>\n      <td>88.0</td>\n      <td>144.0</td>\n      <td>0.5</td>\n      <td>1.0</td>\n      <td>1</td>\n      <td>9</td>\n    </tr>\n    <tr>\n      <th>17853</th>\n      <td>10.888889</td>\n      <td>76.90</td>\n      <td>5.6</td>\n      <td>88.0</td>\n      <td>144.0</td>\n      <td>0.5</td>\n      <td>1.0</td>\n      <td>1</td>\n      <td>9</td>\n    </tr>\n    <tr>\n      <th>17854</th>\n      <td>10.888889</td>\n      <td>76.90</td>\n      <td>5.6</td>\n      <td>88.0</td>\n      <td>144.0</td>\n      <td>0.5</td>\n      <td>1.0</td>\n      <td>1</td>\n      <td>9</td>\n    </tr>\n    <tr>\n      <th>17855</th>\n      <td>10.888889</td>\n      <td>76.90</td>\n      <td>5.6</td>\n      <td>88.0</td>\n      <td>144.0</td>\n      <td>0.5</td>\n      <td>1.0</td>\n      <td>1</td>\n      <td>9</td>\n    </tr>\n  </tbody>\n</table>\n<p>5376 rows × 9 columns</p>\n</div>"
     },
     "execution_count": 138,
     "metadata": {},
     "output_type": "execute_result"
    }
   ],
   "source": [
    "dates = dataset['Date']\n",
    "\n",
    "timestamps = pd.to_datetime(dates)\n",
    "\n",
    "hours = timestamps.dt.hour\n",
    "months = timestamps.dt.month\n",
    "\n",
    "dataset = dataset.dropna()\n",
    "\n",
    "dataset = dataset.drop(fields_to_delete, axis=1)\n",
    "dataset['hour'] = hours\n",
    "dataset['month'] = months\n",
    "\n",
    "dataset"
   ],
   "metadata": {
    "collapsed": false
   }
  },
  {
   "cell_type": "code",
   "execution_count": 139,
   "outputs": [],
   "source": [
    "train_set = dataset.sample(frac=0.8, random_state=42)\n",
    "test_set = dataset.drop(train_set.index)"
   ],
   "metadata": {
    "collapsed": false
   }
  },
  {
   "cell_type": "code",
   "execution_count": 149,
   "outputs": [
    {
     "data": {
      "text/plain": "            temp  humidity  cloudcover  hour  month\n2546   27.888889     39.01        21.4    22      4\n17535  11.888889     74.34        68.0    23      9\n12295  23.388889     43.03         2.4    18      9\n14974  16.888889     45.21        25.0     1      9\n16278  10.944444     96.90        88.0    14      9\n...          ...       ...         ...   ...    ...\n1616   26.611111     30.73         2.4    16      1\n16697  13.888889     63.15        94.3     1      9\n11767  20.888889     73.34        68.0    22      6\n11741  23.333333     59.56        54.8    20      6\n13456  24.888889     46.29        25.0    19     12\n\n[4301 rows x 5 columns]",
      "text/html": "<div>\n<style scoped>\n    .dataframe tbody tr th:only-of-type {\n        vertical-align: middle;\n    }\n\n    .dataframe tbody tr th {\n        vertical-align: top;\n    }\n\n    .dataframe thead th {\n        text-align: right;\n    }\n</style>\n<table border=\"1\" class=\"dataframe\">\n  <thead>\n    <tr style=\"text-align: right;\">\n      <th></th>\n      <th>temp</th>\n      <th>humidity</th>\n      <th>cloudcover</th>\n      <th>hour</th>\n      <th>month</th>\n    </tr>\n  </thead>\n  <tbody>\n    <tr>\n      <th>2546</th>\n      <td>27.888889</td>\n      <td>39.01</td>\n      <td>21.4</td>\n      <td>22</td>\n      <td>4</td>\n    </tr>\n    <tr>\n      <th>17535</th>\n      <td>11.888889</td>\n      <td>74.34</td>\n      <td>68.0</td>\n      <td>23</td>\n      <td>9</td>\n    </tr>\n    <tr>\n      <th>12295</th>\n      <td>23.388889</td>\n      <td>43.03</td>\n      <td>2.4</td>\n      <td>18</td>\n      <td>9</td>\n    </tr>\n    <tr>\n      <th>14974</th>\n      <td>16.888889</td>\n      <td>45.21</td>\n      <td>25.0</td>\n      <td>1</td>\n      <td>9</td>\n    </tr>\n    <tr>\n      <th>16278</th>\n      <td>10.944444</td>\n      <td>96.90</td>\n      <td>88.0</td>\n      <td>14</td>\n      <td>9</td>\n    </tr>\n    <tr>\n      <th>...</th>\n      <td>...</td>\n      <td>...</td>\n      <td>...</td>\n      <td>...</td>\n      <td>...</td>\n    </tr>\n    <tr>\n      <th>1616</th>\n      <td>26.611111</td>\n      <td>30.73</td>\n      <td>2.4</td>\n      <td>16</td>\n      <td>1</td>\n    </tr>\n    <tr>\n      <th>16697</th>\n      <td>13.888889</td>\n      <td>63.15</td>\n      <td>94.3</td>\n      <td>1</td>\n      <td>9</td>\n    </tr>\n    <tr>\n      <th>11767</th>\n      <td>20.888889</td>\n      <td>73.34</td>\n      <td>68.0</td>\n      <td>22</td>\n      <td>6</td>\n    </tr>\n    <tr>\n      <th>11741</th>\n      <td>23.333333</td>\n      <td>59.56</td>\n      <td>54.8</td>\n      <td>20</td>\n      <td>6</td>\n    </tr>\n    <tr>\n      <th>13456</th>\n      <td>24.888889</td>\n      <td>46.29</td>\n      <td>25.0</td>\n      <td>19</td>\n      <td>12</td>\n    </tr>\n  </tbody>\n</table>\n<p>4301 rows × 5 columns</p>\n</div>"
     },
     "execution_count": 149,
     "metadata": {},
     "output_type": "execute_result"
    }
   ],
   "source": [
    "X_train = train_set.copy()\n",
    "X_test = test_set.copy()\n",
    "\n",
    "y_train = pd.DataFrame()\n",
    "y_test = pd.DataFrame()\n",
    "\n",
    "y_train = y_train.assign(**X_train[['visibility', 'solarradiation', 'solarenergy', 'uvindex']])\n",
    "y_test = y_test.assign(**X_test[['visibility', 'solarradiation', 'solarenergy', 'uvindex']])\n",
    "\n",
    "X_train = X_train.drop(columns=['visibility', 'solarradiation', 'solarenergy', 'uvindex'])\n",
    "X_test = X_test.drop(columns=['visibility', 'solarradiation', 'solarenergy', 'uvindex'])\n",
    "\n",
    "X_train"
   ],
   "metadata": {
    "collapsed": false
   }
  },
  {
   "cell_type": "code",
   "execution_count": 151,
   "outputs": [
    {
     "data": {
      "text/plain": "       visibility  solarradiation  solarenergy  uvindex\n2546         21.7            60.0          0.2      1.0\n17535         6.2            30.0          0.1      0.0\n12295        18.6            21.0          0.1      0.0\n14974         6.2            14.0          0.1      0.0\n16278         6.2            14.0          0.1      0.0\n...           ...             ...          ...      ...\n1616         28.0           930.0          3.3      9.0\n16697         6.2             9.0          0.0      0.0\n11767         5.9             9.0          0.0      0.0\n11741         6.2            30.0          0.1      0.0\n13456         6.2           406.0          1.5      4.0\n\n[4301 rows x 4 columns]",
      "text/html": "<div>\n<style scoped>\n    .dataframe tbody tr th:only-of-type {\n        vertical-align: middle;\n    }\n\n    .dataframe tbody tr th {\n        vertical-align: top;\n    }\n\n    .dataframe thead th {\n        text-align: right;\n    }\n</style>\n<table border=\"1\" class=\"dataframe\">\n  <thead>\n    <tr style=\"text-align: right;\">\n      <th></th>\n      <th>visibility</th>\n      <th>solarradiation</th>\n      <th>solarenergy</th>\n      <th>uvindex</th>\n    </tr>\n  </thead>\n  <tbody>\n    <tr>\n      <th>2546</th>\n      <td>21.7</td>\n      <td>60.0</td>\n      <td>0.2</td>\n      <td>1.0</td>\n    </tr>\n    <tr>\n      <th>17535</th>\n      <td>6.2</td>\n      <td>30.0</td>\n      <td>0.1</td>\n      <td>0.0</td>\n    </tr>\n    <tr>\n      <th>12295</th>\n      <td>18.6</td>\n      <td>21.0</td>\n      <td>0.1</td>\n      <td>0.0</td>\n    </tr>\n    <tr>\n      <th>14974</th>\n      <td>6.2</td>\n      <td>14.0</td>\n      <td>0.1</td>\n      <td>0.0</td>\n    </tr>\n    <tr>\n      <th>16278</th>\n      <td>6.2</td>\n      <td>14.0</td>\n      <td>0.1</td>\n      <td>0.0</td>\n    </tr>\n    <tr>\n      <th>...</th>\n      <td>...</td>\n      <td>...</td>\n      <td>...</td>\n      <td>...</td>\n    </tr>\n    <tr>\n      <th>1616</th>\n      <td>28.0</td>\n      <td>930.0</td>\n      <td>3.3</td>\n      <td>9.0</td>\n    </tr>\n    <tr>\n      <th>16697</th>\n      <td>6.2</td>\n      <td>9.0</td>\n      <td>0.0</td>\n      <td>0.0</td>\n    </tr>\n    <tr>\n      <th>11767</th>\n      <td>5.9</td>\n      <td>9.0</td>\n      <td>0.0</td>\n      <td>0.0</td>\n    </tr>\n    <tr>\n      <th>11741</th>\n      <td>6.2</td>\n      <td>30.0</td>\n      <td>0.1</td>\n      <td>0.0</td>\n    </tr>\n    <tr>\n      <th>13456</th>\n      <td>6.2</td>\n      <td>406.0</td>\n      <td>1.5</td>\n      <td>4.0</td>\n    </tr>\n  </tbody>\n</table>\n<p>4301 rows × 4 columns</p>\n</div>"
     },
     "execution_count": 151,
     "metadata": {},
     "output_type": "execute_result"
    }
   ],
   "source": [
    "y_train"
   ],
   "metadata": {
    "collapsed": false
   }
  },
  {
   "cell_type": "code",
   "execution_count": 144,
   "outputs": [
    {
     "data": {
      "text/plain": "0.999998229364789"
     },
     "execution_count": 144,
     "metadata": {},
     "output_type": "execute_result"
    }
   ],
   "source": [
    "model = RandomForestRegressor()\n",
    "model.fit(X_train, y_train)\n",
    "\n",
    "y_pred = model.predict(X_test)\n",
    "r2_score = model.score(X_test, y_test)\n",
    "\n",
    "pickle.dump(model, open(\"predict_missing_model.pickle\", \"wb\"))\n",
    "r2_score"
   ],
   "metadata": {
    "collapsed": false
   }
  },
  {
   "cell_type": "code",
   "execution_count": 150,
   "outputs": [
    {
     "name": "stdout",
     "output_type": "stream",
     "text": [
      "[[16.75928464 95.17410895  0.3801521   0.37960376]\n",
      " [16.75928464 95.17410895  0.3801521   0.37960376]\n",
      " [16.75928464 95.17410895  0.3801521   0.37960376]\n",
      " ...\n",
      " [ 2.10407768 16.32310475  0.15508814 -0.27134432]\n",
      " [ 2.10407768 16.32310475  0.15508814 -0.27134432]\n",
      " [ 2.10407768 16.32310475  0.15508814 -0.27134432]]\n"
     ]
    }
   ],
   "source": [
    "predicted = model.predict(X_test)\n",
    "print(predicted)"
   ],
   "metadata": {
    "collapsed": false
   }
  },
  {
   "cell_type": "code",
   "execution_count": 145,
   "outputs": [
    {
     "data": {
      "text/plain": "0.3267123844458155"
     },
     "execution_count": 145,
     "metadata": {},
     "output_type": "execute_result"
    }
   ],
   "source": [
    "model = LinearRegression()\n",
    "model.fit(X_train, y_train)\n",
    "\n",
    "y_pred = model.predict(X_test)\n",
    "r2_score = model.score(X_test, y_test)\n",
    "r2_score"
   ],
   "metadata": {
    "collapsed": false
   }
  },
  {
   "cell_type": "code",
   "execution_count": 148,
   "outputs": [
    {
     "data": {
      "text/plain": "0.480096058577977"
     },
     "execution_count": 148,
     "metadata": {},
     "output_type": "execute_result"
    }
   ],
   "source": [
    "model = MLPRegressor(hidden_layer_sizes=(10,), activation='relu', solver='adam', max_iter=5000)\n",
    "model.fit(X_train, y_train)\n",
    "\n",
    "y_pred = model.predict(X_test)\n",
    "r2_score = model.score(X_test, y_test)\n",
    "r2_score"
   ],
   "metadata": {
    "collapsed": false
   }
  },
  {
   "cell_type": "code",
   "execution_count": 55,
   "outputs": [],
   "source": [],
   "metadata": {
    "collapsed": false
   }
  }
 ],
 "metadata": {
  "kernelspec": {
   "display_name": "Python 3",
   "language": "python",
   "name": "python3"
  },
  "language_info": {
   "codemirror_mode": {
    "name": "ipython",
    "version": 2
   },
   "file_extension": ".py",
   "mimetype": "text/x-python",
   "name": "python",
   "nbconvert_exporter": "python",
   "pygments_lexer": "ipython2",
   "version": "2.7.6"
  }
 },
 "nbformat": 4,
 "nbformat_minor": 0
}
